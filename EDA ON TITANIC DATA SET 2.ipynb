{
 "cells": [
  {
   "cell_type": "code",
   "execution_count": 15,
   "id": "f7aaf6f5",
   "metadata": {},
   "outputs": [],
   "source": [
    "import pandas as pd\n",
    "import numpy as np\n",
    "import matplotlib.pyplot as plt\n",
    "%matplotlib inline\n",
    "import seaborn as sns"
   ]
  },
  {
   "cell_type": "code",
   "execution_count": 16,
   "id": "2831d0d5",
   "metadata": {},
   "outputs": [],
   "source": [
    "df=pd.read_csv(\"ttrain.csv\")"
   ]
  },
  {
   "cell_type": "code",
   "execution_count": 17,
   "id": "b32133c7",
   "metadata": {},
   "outputs": [],
   "source": [
    "df2=pd.read_csv(\"ttest.csv\")"
   ]
  },
  {
   "cell_type": "code",
   "execution_count": null,
   "id": "8c321ca3",
   "metadata": {},
   "outputs": [],
   "source": []
  },
  {
   "cell_type": "code",
   "execution_count": 35,
   "id": "eaddac4f",
   "metadata": {},
   "outputs": [
    {
     "data": {
      "text/html": [
       "<div>\n",
       "<style scoped>\n",
       "    .dataframe tbody tr th:only-of-type {\n",
       "        vertical-align: middle;\n",
       "    }\n",
       "\n",
       "    .dataframe tbody tr th {\n",
       "        vertical-align: top;\n",
       "    }\n",
       "\n",
       "    .dataframe thead th {\n",
       "        text-align: right;\n",
       "    }\n",
       "</style>\n",
       "<table border=\"1\" class=\"dataframe\">\n",
       "  <thead>\n",
       "    <tr style=\"text-align: right;\">\n",
       "      <th></th>\n",
       "      <th>PassengerId</th>\n",
       "      <th>Survived</th>\n",
       "      <th>Pclass</th>\n",
       "      <th>Name</th>\n",
       "      <th>Sex</th>\n",
       "      <th>Age</th>\n",
       "      <th>SibSp</th>\n",
       "      <th>Parch</th>\n",
       "      <th>Ticket</th>\n",
       "      <th>Fare</th>\n",
       "      <th>Cabin</th>\n",
       "      <th>Embarked</th>\n",
       "    </tr>\n",
       "  </thead>\n",
       "  <tbody>\n",
       "    <tr>\n",
       "      <th>0</th>\n",
       "      <td>1</td>\n",
       "      <td>0</td>\n",
       "      <td>3</td>\n",
       "      <td>Braund, Mr. Owen Harris</td>\n",
       "      <td>male</td>\n",
       "      <td>22.0</td>\n",
       "      <td>1</td>\n",
       "      <td>0</td>\n",
       "      <td>A/5 21171</td>\n",
       "      <td>7.2500</td>\n",
       "      <td>NaN</td>\n",
       "      <td>S</td>\n",
       "    </tr>\n",
       "    <tr>\n",
       "      <th>1</th>\n",
       "      <td>2</td>\n",
       "      <td>1</td>\n",
       "      <td>1</td>\n",
       "      <td>Cumings, Mrs. John Bradley (Florence Briggs Th...</td>\n",
       "      <td>female</td>\n",
       "      <td>38.0</td>\n",
       "      <td>1</td>\n",
       "      <td>0</td>\n",
       "      <td>PC 17599</td>\n",
       "      <td>71.2833</td>\n",
       "      <td>C85</td>\n",
       "      <td>C</td>\n",
       "    </tr>\n",
       "    <tr>\n",
       "      <th>2</th>\n",
       "      <td>3</td>\n",
       "      <td>1</td>\n",
       "      <td>3</td>\n",
       "      <td>Heikkinen, Miss. Laina</td>\n",
       "      <td>female</td>\n",
       "      <td>26.0</td>\n",
       "      <td>0</td>\n",
       "      <td>0</td>\n",
       "      <td>STON/O2. 3101282</td>\n",
       "      <td>7.9250</td>\n",
       "      <td>NaN</td>\n",
       "      <td>S</td>\n",
       "    </tr>\n",
       "    <tr>\n",
       "      <th>3</th>\n",
       "      <td>4</td>\n",
       "      <td>1</td>\n",
       "      <td>1</td>\n",
       "      <td>Futrelle, Mrs. Jacques Heath (Lily May Peel)</td>\n",
       "      <td>female</td>\n",
       "      <td>35.0</td>\n",
       "      <td>1</td>\n",
       "      <td>0</td>\n",
       "      <td>113803</td>\n",
       "      <td>53.1000</td>\n",
       "      <td>C123</td>\n",
       "      <td>S</td>\n",
       "    </tr>\n",
       "    <tr>\n",
       "      <th>4</th>\n",
       "      <td>5</td>\n",
       "      <td>0</td>\n",
       "      <td>3</td>\n",
       "      <td>Allen, Mr. William Henry</td>\n",
       "      <td>male</td>\n",
       "      <td>35.0</td>\n",
       "      <td>0</td>\n",
       "      <td>0</td>\n",
       "      <td>373450</td>\n",
       "      <td>8.0500</td>\n",
       "      <td>NaN</td>\n",
       "      <td>S</td>\n",
       "    </tr>\n",
       "  </tbody>\n",
       "</table>\n",
       "</div>"
      ],
      "text/plain": [
       "   PassengerId  Survived  Pclass  \\\n",
       "0            1         0       3   \n",
       "1            2         1       1   \n",
       "2            3         1       3   \n",
       "3            4         1       1   \n",
       "4            5         0       3   \n",
       "\n",
       "                                                Name     Sex   Age  SibSp  \\\n",
       "0                            Braund, Mr. Owen Harris    male  22.0      1   \n",
       "1  Cumings, Mrs. John Bradley (Florence Briggs Th...  female  38.0      1   \n",
       "2                             Heikkinen, Miss. Laina  female  26.0      0   \n",
       "3       Futrelle, Mrs. Jacques Heath (Lily May Peel)  female  35.0      1   \n",
       "4                           Allen, Mr. William Henry    male  35.0      0   \n",
       "\n",
       "   Parch            Ticket     Fare Cabin Embarked  \n",
       "0      0         A/5 21171   7.2500   NaN        S  \n",
       "1      0          PC 17599  71.2833   C85        C  \n",
       "2      0  STON/O2. 3101282   7.9250   NaN        S  \n",
       "3      0            113803  53.1000  C123        S  \n",
       "4      0            373450   8.0500   NaN        S  "
      ]
     },
     "execution_count": 35,
     "metadata": {},
     "output_type": "execute_result"
    }
   ],
   "source": [
    "df.head()"
   ]
  },
  {
   "cell_type": "markdown",
   "id": "2cd1b288",
   "metadata": {},
   "source": [
    "# columnns Types.\n",
    "     1.Numerical OR Continous variable=\"PassengerId\",\"Age\",\"Fare\".\n",
    "     2.Categorical variables=\"Survived\",\"Sex\",\"Pclass\",\"Parch,\"Emabarked.\n",
    "     3.Mixed variables=\"name\",\"Ticket\",\"Cabin\"."
   ]
  },
  {
   "cell_type": "code",
   "execution_count": 36,
   "id": "33402046",
   "metadata": {},
   "outputs": [
    {
     "name": "stdout",
     "output_type": "stream",
     "text": [
      "<class 'pandas.core.frame.DataFrame'>\n",
      "RangeIndex: 891 entries, 0 to 890\n",
      "Data columns (total 12 columns):\n",
      " #   Column       Non-Null Count  Dtype  \n",
      "---  ------       --------------  -----  \n",
      " 0   PassengerId  891 non-null    int64  \n",
      " 1   Survived     891 non-null    int64  \n",
      " 2   Pclass       891 non-null    int64  \n",
      " 3   Name         891 non-null    object \n",
      " 4   Sex          891 non-null    object \n",
      " 5   Age          714 non-null    float64\n",
      " 6   SibSp        891 non-null    int64  \n",
      " 7   Parch        891 non-null    int64  \n",
      " 8   Ticket       891 non-null    object \n",
      " 9   Fare         891 non-null    float64\n",
      " 10  Cabin        204 non-null    object \n",
      " 11  Embarked     889 non-null    object \n",
      "dtypes: float64(2), int64(5), object(5)\n",
      "memory usage: 83.7+ KB\n"
     ]
    }
   ],
   "source": [
    "df.info()"
   ]
  },
  {
   "cell_type": "code",
   "execution_count": 37,
   "id": "896369ec",
   "metadata": {},
   "outputs": [],
   "source": [
    "#univariate analysis on numerival variables."
   ]
  },
  {
   "cell_type": "code",
   "execution_count": 38,
   "id": "29d59c6c",
   "metadata": {},
   "outputs": [
    {
     "data": {
      "text/plain": [
       "count    891.000000\n",
       "mean     446.000000\n",
       "std      257.353842\n",
       "min        1.000000\n",
       "25%      223.500000\n",
       "50%      446.000000\n",
       "75%      668.500000\n",
       "max      891.000000\n",
       "Name: PassengerId, dtype: float64"
      ]
     },
     "execution_count": 38,
     "metadata": {},
     "output_type": "execute_result"
    }
   ],
   "source": [
    "df[\"PassengerId\"].describe()"
   ]
  },
  {
   "cell_type": "code",
   "execution_count": 39,
   "id": "838fde5d",
   "metadata": {},
   "outputs": [
    {
     "data": {
      "text/plain": [
       "(array([89., 89., 89., 89., 89., 89., 89., 89., 89., 90.]),\n",
       " array([  1.,  90., 179., 268., 357., 446., 535., 624., 713., 802., 891.]),\n",
       " <BarContainer object of 10 artists>)"
      ]
     },
     "execution_count": 39,
     "metadata": {},
     "output_type": "execute_result"
    },
    {
     "data": {
      "image/png": "[encoded data removed]",
      "text/plain": [
       "<Figure size 640x480 with 1 Axes>"
      ]
     },
     "metadata": {},
     "output_type": "display_data"
    }
   ],
   "source": [
    "plt.hist(df[\"PassengerId\"])"
   ]
  },
  {
   "cell_type": "code",
   "execution_count": 40,
   "id": "f0c608aa",
   "metadata": {},
   "outputs": [
    {
     "data": {
      "text/plain": [
       "<Axes: >"
      ]
     },
     "execution_count": 40,
     "metadata": {},
     "output_type": "execute_result"
    },
    {
     "data": {
      "image/png": "[encoded data removed]",
      "text/plain": [
       "<Figure size 640x480 with 1 Axes>"
      ]
     },
     "metadata": {},
     "output_type": "display_data"
    }
   ],
   "source": [
    "sns.boxplot(df[\"PassengerId\"])"
   ]
  },
  {
   "cell_type": "code",
   "execution_count": 42,
   "id": "c8736864",
   "metadata": {},
   "outputs": [
    {
     "data": {
      "text/plain": [
       "0.0"
      ]
     },
     "execution_count": 42,
     "metadata": {},
     "output_type": "execute_result"
    }
   ],
   "source": [
    "df[\"PassengerId\"].skew()"
   ]
  },
  {
   "cell_type": "code",
   "execution_count": 43,
   "id": "3b3f5278",
   "metadata": {},
   "outputs": [],
   "source": [
    "#univariate analysis on AGE"
   ]
  },
  {
   "cell_type": "code",
   "execution_count": 44,
   "id": "80ed893a",
   "metadata": {},
   "outputs": [
    {
     "data": {
      "text/plain": [
       "count    714.000000\n",
       "mean      29.699118\n",
       "std       14.526497\n",
       "min        0.420000\n",
       "25%       20.125000\n",
       "50%       28.000000\n",
       "75%       38.000000\n",
       "max       80.000000\n",
       "Name: Age, dtype: float64"
      ]
     },
     "execution_count": 44,
     "metadata": {},
     "output_type": "execute_result"
    }
   ],
   "source": [
    "df[\"Age\"].describe()"
   ]
  },
  {
   "cell_type": "code",
   "execution_count": 45,
   "id": "bcc7cb36",
   "metadata": {},
   "outputs": [
    {
     "data": {
      "text/plain": [
       "(array([40., 14., 15., 31., 79., 98., 85., 84., 73., 45., 35., 35., 29.,\n",
       "        16., 13., 11.,  4.,  5.,  1.,  1.]),\n",
       " array([ 0.42 ,  4.399,  8.378, 12.357, 16.336, 20.315, 24.294, 28.273,\n",
       "        32.252, 36.231, 40.21 , 44.189, 48.168, 52.147, 56.126, 60.105,\n",
       "        64.084, 68.063, 72.042, 76.021, 80.   ]),\n",
       " <BarContainer object of 20 artists>)"
      ]
     },
     "execution_count": 45,
     "metadata": {},
     "output_type": "execute_result"
    },
    {
     "data": {
      "image/png": "[encoded data removed]",
      "text/plain": [
       "<Figure size 640x480 with 1 Axes>"
      ]
     },
     "metadata": {},
     "output_type": "display_data"
    }
   ],
   "source": [
    "plt.hist(df[\"Age\"],bins=20)"
   ]
  },
  {
   "cell_type": "code",
   "execution_count": 47,
   "id": "8b5363b4",
   "metadata": {},
   "outputs": [
    {
     "data": {
      "text/plain": [
       "<Axes: >"
      ]
     },
     "execution_count": 47,
     "metadata": {},
     "output_type": "execute_result"
    },
    {
     "data": {
      "image/png": "[encoded data removed]",
      "text/plain": [
       "<Figure size 640x480 with 1 Axes>"
      ]
     },
     "metadata": {},
     "output_type": "display_data"
    }
   ],
   "source": [
    "sns.boxplot(df[\"Age\"])"
   ]
  },
  {
   "cell_type": "code",
   "execution_count": 49,
   "id": "0d5443d4",
   "metadata": {},
   "outputs": [
    {
     "data": {
      "text/html": [
       "<div>\n",
       "<style scoped>\n",
       "    .dataframe tbody tr th:only-of-type {\n",
       "        vertical-align: middle;\n",
       "    }\n",
       "\n",
       "    .dataframe tbody tr th {\n",
       "        vertical-align: top;\n",
       "    }\n",
       "\n",
       "    .dataframe thead th {\n",
       "        text-align: right;\n",
       "    }\n",
       "</style>\n",
       "<table border=\"1\" class=\"dataframe\">\n",
       "  <thead>\n",
       "    <tr style=\"text-align: right;\">\n",
       "      <th></th>\n",
       "      <th>PassengerId</th>\n",
       "      <th>Survived</th>\n",
       "      <th>Pclass</th>\n",
       "      <th>Name</th>\n",
       "      <th>Sex</th>\n",
       "      <th>Age</th>\n",
       "      <th>SibSp</th>\n",
       "      <th>Parch</th>\n",
       "      <th>Ticket</th>\n",
       "      <th>Fare</th>\n",
       "      <th>Cabin</th>\n",
       "      <th>Embarked</th>\n",
       "    </tr>\n",
       "  </thead>\n",
       "  <tbody>\n",
       "    <tr>\n",
       "      <th>33</th>\n",
       "      <td>34</td>\n",
       "      <td>0</td>\n",
       "      <td>2</td>\n",
       "      <td>Wheadon, Mr. Edward H</td>\n",
       "      <td>male</td>\n",
       "      <td>66.0</td>\n",
       "      <td>0</td>\n",
       "      <td>0</td>\n",
       "      <td>C.A. 24579</td>\n",
       "      <td>10.5000</td>\n",
       "      <td>NaN</td>\n",
       "      <td>S</td>\n",
       "    </tr>\n",
       "    <tr>\n",
       "      <th>96</th>\n",
       "      <td>97</td>\n",
       "      <td>0</td>\n",
       "      <td>1</td>\n",
       "      <td>Goldschmidt, Mr. George B</td>\n",
       "      <td>male</td>\n",
       "      <td>71.0</td>\n",
       "      <td>0</td>\n",
       "      <td>0</td>\n",
       "      <td>PC 17754</td>\n",
       "      <td>34.6542</td>\n",
       "      <td>A5</td>\n",
       "      <td>C</td>\n",
       "    </tr>\n",
       "    <tr>\n",
       "      <th>116</th>\n",
       "      <td>117</td>\n",
       "      <td>0</td>\n",
       "      <td>3</td>\n",
       "      <td>Connors, Mr. Patrick</td>\n",
       "      <td>male</td>\n",
       "      <td>70.5</td>\n",
       "      <td>0</td>\n",
       "      <td>0</td>\n",
       "      <td>370369</td>\n",
       "      <td>7.7500</td>\n",
       "      <td>NaN</td>\n",
       "      <td>Q</td>\n",
       "    </tr>\n",
       "    <tr>\n",
       "      <th>493</th>\n",
       "      <td>494</td>\n",
       "      <td>0</td>\n",
       "      <td>1</td>\n",
       "      <td>Artagaveytia, Mr. Ramon</td>\n",
       "      <td>male</td>\n",
       "      <td>71.0</td>\n",
       "      <td>0</td>\n",
       "      <td>0</td>\n",
       "      <td>PC 17609</td>\n",
       "      <td>49.5042</td>\n",
       "      <td>NaN</td>\n",
       "      <td>C</td>\n",
       "    </tr>\n",
       "    <tr>\n",
       "      <th>630</th>\n",
       "      <td>631</td>\n",
       "      <td>1</td>\n",
       "      <td>1</td>\n",
       "      <td>Barkworth, Mr. Algernon Henry Wilson</td>\n",
       "      <td>male</td>\n",
       "      <td>80.0</td>\n",
       "      <td>0</td>\n",
       "      <td>0</td>\n",
       "      <td>27042</td>\n",
       "      <td>30.0000</td>\n",
       "      <td>A23</td>\n",
       "      <td>S</td>\n",
       "    </tr>\n",
       "    <tr>\n",
       "      <th>672</th>\n",
       "      <td>673</td>\n",
       "      <td>0</td>\n",
       "      <td>2</td>\n",
       "      <td>Mitchell, Mr. Henry Michael</td>\n",
       "      <td>male</td>\n",
       "      <td>70.0</td>\n",
       "      <td>0</td>\n",
       "      <td>0</td>\n",
       "      <td>C.A. 24580</td>\n",
       "      <td>10.5000</td>\n",
       "      <td>NaN</td>\n",
       "      <td>S</td>\n",
       "    </tr>\n",
       "    <tr>\n",
       "      <th>745</th>\n",
       "      <td>746</td>\n",
       "      <td>0</td>\n",
       "      <td>1</td>\n",
       "      <td>Crosby, Capt. Edward Gifford</td>\n",
       "      <td>male</td>\n",
       "      <td>70.0</td>\n",
       "      <td>1</td>\n",
       "      <td>1</td>\n",
       "      <td>WE/P 5735</td>\n",
       "      <td>71.0000</td>\n",
       "      <td>B22</td>\n",
       "      <td>S</td>\n",
       "    </tr>\n",
       "    <tr>\n",
       "      <th>851</th>\n",
       "      <td>852</td>\n",
       "      <td>0</td>\n",
       "      <td>3</td>\n",
       "      <td>Svensson, Mr. Johan</td>\n",
       "      <td>male</td>\n",
       "      <td>74.0</td>\n",
       "      <td>0</td>\n",
       "      <td>0</td>\n",
       "      <td>347060</td>\n",
       "      <td>7.7750</td>\n",
       "      <td>NaN</td>\n",
       "      <td>S</td>\n",
       "    </tr>\n",
       "  </tbody>\n",
       "</table>\n",
       "</div>"
      ],
      "text/plain": [
       "     PassengerId  Survived  Pclass                                  Name  \\\n",
       "33            34         0       2                 Wheadon, Mr. Edward H   \n",
       "96            97         0       1             Goldschmidt, Mr. George B   \n",
       "116          117         0       3                  Connors, Mr. Patrick   \n",
       "493          494         0       1               Artagaveytia, Mr. Ramon   \n",
       "630          631         1       1  Barkworth, Mr. Algernon Henry Wilson   \n",
       "672          673         0       2           Mitchell, Mr. Henry Michael   \n",
       "745          746         0       1          Crosby, Capt. Edward Gifford   \n",
       "851          852         0       3                   Svensson, Mr. Johan   \n",
       "\n",
       "      Sex   Age  SibSp  Parch      Ticket     Fare Cabin Embarked  \n",
       "33   male  66.0      0      0  C.A. 24579  10.5000   NaN        S  \n",
       "96   male  71.0      0      0    PC 17754  34.6542    A5        C  \n",
       "116  male  70.5      0      0      370369   7.7500   NaN        Q  \n",
       "493  male  71.0      0      0    PC 17609  49.5042   NaN        C  \n",
       "630  male  80.0      0      0       27042  30.0000   A23        S  \n",
       "672  male  70.0      0      0  C.A. 24580  10.5000   NaN        S  \n",
       "745  male  70.0      1      1   WE/P 5735  71.0000   B22        S  \n",
       "851  male  74.0      0      0      347060   7.7750   NaN        S  "
      ]
     },
     "execution_count": 49,
     "metadata": {},
     "output_type": "execute_result"
    }
   ],
   "source": [
    "df[df[\"Age\"]>65]"
   ]
  },
  {
   "cell_type": "code",
   "execution_count": 50,
   "id": "d8e2445c",
   "metadata": {},
   "outputs": [
    {
     "data": {
      "text/plain": [
       "<Axes: ylabel='Density'>"
      ]
     },
     "execution_count": 50,
     "metadata": {},
     "output_type": "execute_result"
    },
    {
     "data": {
      "image/png": "[encoded data removed]",
      "text/plain": [
       "<Figure size 640x480 with 1 Axes>"
      ]
     },
     "metadata": {},
     "output_type": "display_data"
    }
   ],
   "source": [
    "df[\"Age\"].plot(kind=\"kde\")"
   ]
  },
  {
   "cell_type": "code",
   "execution_count": 51,
   "id": "86107163",
   "metadata": {},
   "outputs": [
    {
     "data": {
      "text/plain": [
       "177"
      ]
     },
     "execution_count": 51,
     "metadata": {},
     "output_type": "execute_result"
    }
   ],
   "source": [
    "df[\"Age\"].isnull().sum()"
   ]
  },
  {
   "cell_type": "markdown",
   "id": "182c9795",
   "metadata": {},
   "source": [
    "# Conclusion\n",
    "     1.Age is normal or almost  distributed.\n",
    "     2.Consist of outliers.\n",
    "     3.missing values are present."
   ]
  },
  {
   "cell_type": "code",
   "execution_count": 52,
   "id": "8d64946f",
   "metadata": {},
   "outputs": [
    {
     "data": {
      "text/plain": [
       "count    891.000000\n",
       "mean      32.204208\n",
       "std       49.693429\n",
       "min        0.000000\n",
       "25%        7.910400\n",
       "50%       14.454200\n",
       "75%       31.000000\n",
       "max      512.329200\n",
       "Name: Fare, dtype: float64"
      ]
     },
     "execution_count": 52,
     "metadata": {},
     "output_type": "execute_result"
    }
   ],
   "source": [
    "#univariate analysis on Fare\n",
    "df[\"Fare\"].describe()"
   ]
  },
  {
   "cell_type": "code",
   "execution_count": 53,
   "id": "0a5a855f",
   "metadata": {},
   "outputs": [
    {
     "data": {
      "text/plain": [
       "<Axes: ylabel='Frequency'>"
      ]
     },
     "execution_count": 53,
     "metadata": {},
     "output_type": "execute_result"
    },
    {
     "data": {
      "image/png": "[encoded data removed]",
      "text/plain": [
       "<Figure size 640x480 with 1 Axes>"
      ]
     },
     "metadata": {},
     "output_type": "display_data"
    }
   ],
   "source": [
    "df[\"Fare\"].plot(kind=\"hist\")"
   ]
  },
  {
   "cell_type": "code",
   "execution_count": 54,
   "id": "46b75099",
   "metadata": {},
   "outputs": [
    {
     "data": {
      "text/plain": [
       "<Axes: >"
      ]
     },
     "execution_count": 54,
     "metadata": {},
     "output_type": "execute_result"
    },
    {
     "data": {
      "image/png": "[encoded data removed]",
      "text/plain": [
       "<Figure size 640x480 with 1 Axes>"
      ]
     },
     "metadata": {},
     "output_type": "display_data"
    }
   ],
   "source": [
    "sns.boxplot(df[\"Fare\"])"
   ]
  },
  {
   "cell_type": "code",
   "execution_count": 55,
   "id": "782306a1",
   "metadata": {},
   "outputs": [
    {
     "data": {
      "text/html": [
       "<div>\n",
       "<style scoped>\n",
       "    .dataframe tbody tr th:only-of-type {\n",
       "        vertical-align: middle;\n",
       "    }\n",
       "\n",
       "    .dataframe tbody tr th {\n",
       "        vertical-align: top;\n",
       "    }\n",
       "\n",
       "    .dataframe thead th {\n",
       "        text-align: right;\n",
       "    }\n",
       "</style>\n",
       "<table border=\"1\" class=\"dataframe\">\n",
       "  <thead>\n",
       "    <tr style=\"text-align: right;\">\n",
       "      <th></th>\n",
       "      <th>PassengerId</th>\n",
       "      <th>Survived</th>\n",
       "      <th>Pclass</th>\n",
       "      <th>Name</th>\n",
       "      <th>Sex</th>\n",
       "      <th>Age</th>\n",
       "      <th>SibSp</th>\n",
       "      <th>Parch</th>\n",
       "      <th>Ticket</th>\n",
       "      <th>Fare</th>\n",
       "      <th>Cabin</th>\n",
       "      <th>Embarked</th>\n",
       "    </tr>\n",
       "  </thead>\n",
       "  <tbody>\n",
       "    <tr>\n",
       "      <th>258</th>\n",
       "      <td>259</td>\n",
       "      <td>1</td>\n",
       "      <td>1</td>\n",
       "      <td>Ward, Miss. Anna</td>\n",
       "      <td>female</td>\n",
       "      <td>35.0</td>\n",
       "      <td>0</td>\n",
       "      <td>0</td>\n",
       "      <td>PC 17755</td>\n",
       "      <td>512.3292</td>\n",
       "      <td>NaN</td>\n",
       "      <td>C</td>\n",
       "    </tr>\n",
       "    <tr>\n",
       "      <th>679</th>\n",
       "      <td>680</td>\n",
       "      <td>1</td>\n",
       "      <td>1</td>\n",
       "      <td>Cardeza, Mr. Thomas Drake Martinez</td>\n",
       "      <td>male</td>\n",
       "      <td>36.0</td>\n",
       "      <td>0</td>\n",
       "      <td>1</td>\n",
       "      <td>PC 17755</td>\n",
       "      <td>512.3292</td>\n",
       "      <td>B51 B53 B55</td>\n",
       "      <td>C</td>\n",
       "    </tr>\n",
       "    <tr>\n",
       "      <th>737</th>\n",
       "      <td>738</td>\n",
       "      <td>1</td>\n",
       "      <td>1</td>\n",
       "      <td>Lesurer, Mr. Gustave J</td>\n",
       "      <td>male</td>\n",
       "      <td>35.0</td>\n",
       "      <td>0</td>\n",
       "      <td>0</td>\n",
       "      <td>PC 17755</td>\n",
       "      <td>512.3292</td>\n",
       "      <td>B101</td>\n",
       "      <td>C</td>\n",
       "    </tr>\n",
       "  </tbody>\n",
       "</table>\n",
       "</div>"
      ],
      "text/plain": [
       "     PassengerId  Survived  Pclass                                Name  \\\n",
       "258          259         1       1                    Ward, Miss. Anna   \n",
       "679          680         1       1  Cardeza, Mr. Thomas Drake Martinez   \n",
       "737          738         1       1              Lesurer, Mr. Gustave J   \n",
       "\n",
       "        Sex   Age  SibSp  Parch    Ticket      Fare        Cabin Embarked  \n",
       "258  female  35.0      0      0  PC 17755  512.3292          NaN        C  \n",
       "679    male  36.0      0      1  PC 17755  512.3292  B51 B53 B55        C  \n",
       "737    male  35.0      0      0  PC 17755  512.3292         B101        C  "
      ]
     },
     "execution_count": 55,
     "metadata": {},
     "output_type": "execute_result"
    }
   ],
   "source": [
    "df[df[\"Fare\"]>500.0]"
   ]
  },
  {
   "cell_type": "markdown",
   "id": "0ef502f6",
   "metadata": {},
   "source": [
    "# conclusion\n",
    "      1.It's consist of some of the outliers.\n",
    "      2.Majority of people have travlled between 0$-50$\n",
    "      3.Their are 3 members who paid more than 500$ for their Ticket."
   ]
  },
  {
   "cell_type": "code",
   "execution_count": 56,
   "id": "a63113fb",
   "metadata": {},
   "outputs": [
    {
     "data": {
      "text/plain": [
       "<Axes: ylabel='Density'>"
      ]
     },
     "execution_count": 56,
     "metadata": {},
     "output_type": "execute_result"
    },
    {
     "data": {
      "image/png": "[encoded data removed]",
      "text/plain": [
       "<Figure size 640x480 with 1 Axes>"
      ]
     },
     "metadata": {},
     "output_type": "display_data"
    }
   ],
   "source": [
    "df[\"Fare\"].plot(kind=\"kde\")"
   ]
  },
  {
   "cell_type": "code",
   "execution_count": 57,
   "id": "9f1ded04",
   "metadata": {},
   "outputs": [],
   "source": [
    "# univariate analysis onn->Categorical variables=\"Survived\",\"Sex\",\"Pclass\",\"Parch,\"Emabarked."
   ]
  },
  {
   "cell_type": "code",
   "execution_count": 61,
   "id": "0dd3d377",
   "metadata": {},
   "outputs": [],
   "source": [
    "survived_name=df[\"Survived\"].value_counts().index"
   ]
  },
  {
   "cell_type": "code",
   "execution_count": 63,
   "id": "9be268cb",
   "metadata": {},
   "outputs": [],
   "source": [
    "survived_values=df[\"Survived\"].value_counts().values"
   ]
  },
  {
   "cell_type": "code",
   "execution_count": 65,
   "id": "dbd9d20f",
   "metadata": {},
   "outputs": [
    {
     "data": {
      "text/plain": [
       "([<matplotlib.patches.Wedge at 0x2f06e83b750>,\n",
       "  <matplotlib.patches.Wedge at 0x2f06e84ce50>],\n",
       " [Text(-0.3925749350994583, 1.0275626113924428, '0'),\n",
       "  Text(0.3925750313068116, -1.0275625746369201, '1')],\n",
       " [Text(-0.21413178278152267, 0.5604886971231505, '61.616164%'),\n",
       "  Text(0.21413183525826085, -0.5604886770746836, '38.383839%')])"
      ]
     },
     "execution_count": 65,
     "metadata": {},
     "output_type": "execute_result"
    },
    {
     "data": {
      "image/png": "[encoded data removed]",
      "text/plain": [
       "<Figure size 640x480 with 1 Axes>"
      ]
     },
     "metadata": {},
     "output_type": "display_data"
    }
   ],
   "source": [
    "plt.pie(survived_values,labels=survived_name,autopct=\"%1.6f%%\")"
   ]
  },
  {
   "cell_type": "markdown",
   "id": "89279e00",
   "metadata": {},
   "source": [
    "# conclusion\n",
    "    1.Majority of people are died in this tragedy.\n",
    "    2.Only a minimum amount of people are survived."
   ]
  },
  {
   "cell_type": "code",
   "execution_count": 67,
   "id": "b5de1b29",
   "metadata": {},
   "outputs": [
    {
     "data": {
      "text/plain": [
       "0"
      ]
     },
     "execution_count": 67,
     "metadata": {},
     "output_type": "execute_result"
    }
   ],
   "source": [
    "df[\"Survived\"].isnull().sum()"
   ]
  },
  {
   "cell_type": "code",
   "execution_count": 69,
   "id": "a78553dd",
   "metadata": {},
   "outputs": [],
   "source": [
    "#univaraite analysis on Sex.\n",
    "df_mf=df[\"Sex\"].value_counts().index"
   ]
  },
  {
   "cell_type": "code",
   "execution_count": 71,
   "id": "3428c355",
   "metadata": {},
   "outputs": [],
   "source": [
    "df_values=df[\"Sex\"].value_counts().values\n"
   ]
  },
  {
   "cell_type": "code",
   "execution_count": 72,
   "id": "d5a839fe",
   "metadata": {},
   "outputs": [
    {
     "data": {
      "text/plain": [
       "([<matplotlib.patches.Wedge at 0x2f06e8a6810>,\n",
       "  <matplotlib.patches.Wedge at 0x2f06e87ae90>],\n",
       " [Text(-0.4919454136803954, 0.9838646807152012, 'male'),\n",
       "  Text(0.4919455057964525, -0.9838646346559433, 'female')],\n",
       " [Text(-0.2683338620074884, 0.5366534622082915, '64.759%'),\n",
       "  Text(0.26833391225261044, -0.53665343708506, '35.241%')])"
      ]
     },
     "execution_count": 72,
     "metadata": {},
     "output_type": "execute_result"
    },
    {
     "data": {
      "image/png": "[encoded data removed]",
      "text/plain": [
       "<Figure size 640x480 with 1 Axes>"
      ]
     },
     "metadata": {},
     "output_type": "display_data"
    }
   ],
   "source": [
    "plt.pie(df_values,labels=df_mf,autopct=\"%1.3f%%\")"
   ]
  },
  {
   "cell_type": "markdown",
   "id": "c4e82e54",
   "metadata": {},
   "source": [
    "# conclusion \n",
    "      1.Male are more present in Titanic Ship than Females.\n",
    "      2.It  consist of no null values or missing values."
   ]
  },
  {
   "cell_type": "code",
   "execution_count": 77,
   "id": "12c38565",
   "metadata": {},
   "outputs": [
    {
     "data": {
      "text/plain": [
       "0"
      ]
     },
     "execution_count": 77,
     "metadata": {},
     "output_type": "execute_result"
    }
   ],
   "source": [
    "df[\"Sex\"].isnull().sum()"
   ]
  },
  {
   "cell_type": "code",
   "execution_count": 81,
   "id": "c8bb6ce1",
   "metadata": {},
   "outputs": [],
   "source": [
    "p_name=df[\"Pclass\"].value_counts().index"
   ]
  },
  {
   "cell_type": "code",
   "execution_count": 83,
   "id": "55ecfc30",
   "metadata": {},
   "outputs": [],
   "source": [
    "p_values=df[\"Pclass\"].value_counts().values"
   ]
  },
  {
   "cell_type": "code",
   "execution_count": 85,
   "id": "247b4259",
   "metadata": {},
   "outputs": [
    {
     "data": {
      "text/plain": [
       "([<matplotlib.patches.Wedge at 0x2f06e8e6ed0>,\n",
       "  <matplotlib.patches.Wedge at 0x2f06e8d4610>,\n",
       "  <matplotlib.patches.Wedge at 0x2f06e905e90>],\n",
       " [Text(-0.17571616709359641, 1.0858746836637898, '3'),\n",
       "  Text(-0.5160762002061153, -0.9714243951954356, '1'),\n",
       "  Text(0.8765111456658484, -0.6646263698677192, '2')],\n",
       " [Text(-0.09584518205105258, 0.5922952819984307, '55.107%'),\n",
       "  Text(-0.2814961092033356, -0.5298678519247829, '24.242%'),\n",
       "  Text(0.47809698854500815, -0.3625234744733013, '20.651%')])"
      ]
     },
     "execution_count": 85,
     "metadata": {},
     "output_type": "execute_result"
    },
    {
     "data": {
      "image/png": "[encoded data removed]",
      "text/plain": [
       "<Figure size 640x480 with 1 Axes>"
      ]
     },
     "metadata": {},
     "output_type": "display_data"
    }
   ],
   "source": [
    "plt.pie(p_values,labels=p_name,autopct=\"%1.3f%%\")"
   ]
  },
  {
   "cell_type": "code",
   "execution_count": 86,
   "id": "0e531aa6",
   "metadata": {},
   "outputs": [
    {
     "data": {
      "text/plain": [
       "0"
      ]
     },
     "execution_count": 86,
     "metadata": {},
     "output_type": "execute_result"
    }
   ],
   "source": [
    "df[\"Pclass\"].isnull().sum()"
   ]
  },
  {
   "cell_type": "markdown",
   "id": "d30ed047",
   "metadata": {},
   "source": [
    "# conclusion.\n",
    "      1.The above pie chart shows that majority of people travel in 3rd class.\n",
    "      2.Than people travel in 1st class.\n",
    "      3.Than people travel in 2nd class."
   ]
  },
  {
   "cell_type": "code",
   "execution_count": 88,
   "id": "94107e2e",
   "metadata": {},
   "outputs": [],
   "source": [
    "p_arch_name=df[\"Parch\"].value_counts().index"
   ]
  },
  {
   "cell_type": "code",
   "execution_count": 90,
   "id": "1f68423b",
   "metadata": {},
   "outputs": [],
   "source": [
    "p_values=df[\"Parch\"].value_counts().values"
   ]
  },
  {
   "cell_type": "code",
   "execution_count": 91,
   "id": "656589ed",
   "metadata": {},
   "outputs": [
    {
     "data": {
      "text/plain": [
       "([<matplotlib.patches.Wedge at 0x2f06e951b90>,\n",
       "  <matplotlib.patches.Wedge at 0x2f06e953350>,\n",
       "  <matplotlib.patches.Wedge at 0x2f06e968c10>,\n",
       "  <matplotlib.patches.Wedge at 0x2f06e969f10>,\n",
       "  <matplotlib.patches.Wedge at 0x2f06e96c6d0>,\n",
       "  <matplotlib.patches.Wedge at 0x2f06e96da90>,\n",
       "  <matplotlib.patches.Wedge at 0x2f06e96f110>],\n",
       " [Text(-0.804092179728483, 0.750623585094085, '0'),\n",
       "  Text(0.5126478637981279, -0.973237981042261, '1'),\n",
       "  Text(1.018296364993601, -0.41601984693139255, '2'),\n",
       "  Text(1.0957292322146563, -0.09683723287186521, '5'),\n",
       "  Text(1.098461885865451, -0.05815053998818253, '3'),\n",
       "  Text(1.0997538533271654, -0.023269338023504005, '4'),\n",
       "  Text(1.0999931622972063, -0.0038785176797351347, '6')],\n",
       " [Text(-0.43859573439735433, 0.4094310464149554, '76.09428%'),\n",
       "  Text(0.2796261075262515, -0.5308570805685059, '13.24355%'),\n",
       "  Text(0.5554343809056005, -0.22691991650803228, '8.97868%'),\n",
       "  Text(0.5976704902989034, -0.0528203088391992, '0.56117%'),\n",
       "  Text(0.5991610286538823, -0.03171847635719047, '0.56117%'),\n",
       "  Text(0.5998657381784537, -0.012692366194638547, '0.44893%'),\n",
       "  Text(0.5999962703439307, -0.002115555098037346, '0.11223%')])"
      ]
     },
     "execution_count": 91,
     "metadata": {},
     "output_type": "execute_result"
    },
    {
     "data": {
      "image/png": "[encoded data removed]",
      "text/plain": [
       "<Figure size 640x480 with 1 Axes>"
      ]
     },
     "metadata": {},
     "output_type": "display_data"
    }
   ],
   "source": [
    "plt.pie(p_values,labels=p_arch_name,autopct=\"%1.5f%%\")"
   ]
  },
  {
   "cell_type": "code",
   "execution_count": 92,
   "id": "c89d2a24",
   "metadata": {},
   "outputs": [
    {
     "data": {
      "text/plain": [
       "0"
      ]
     },
     "execution_count": 92,
     "metadata": {},
     "output_type": "execute_result"
    }
   ],
   "source": [
    "df[\"Parch\"].isnull().sum()"
   ]
  },
  {
   "cell_type": "markdown",
   "id": "f5eb4497",
   "metadata": {},
   "source": [
    "# Conclusions.\n",
    "      1.Majority ofm people are travelling alone.\n",
    "      2.Than 13% people are travelling with one partner.\n",
    "      3.Than 8.9~9% are travelling with 2 parents or children.\n",
    "      4.No consist of missing values."
   ]
  },
  {
   "cell_type": "code",
   "execution_count": 95,
   "id": "bff92638",
   "metadata": {},
   "outputs": [],
   "source": [
    "df_name=df[\"Embarked\"].value_counts().index"
   ]
  },
  {
   "cell_type": "code",
   "execution_count": 96,
   "id": "2a67ebff",
   "metadata": {},
   "outputs": [],
   "source": [
    "df_value=df[\"Embarked\"].value_counts().values"
   ]
  },
  {
   "cell_type": "code",
   "execution_count": 97,
   "id": "e3c32abb",
   "metadata": {},
   "outputs": [
    {
     "data": {
      "text/plain": [
       "([<matplotlib.patches.Wedge at 0x2f06eb3d390>,\n",
       "  <matplotlib.patches.Wedge at 0x2f06eb3e810>,\n",
       "  <matplotlib.patches.Wedge at 0x2f06eb3ff50>],\n",
       " [Text(-0.7128398214280038, 0.8377704870586524, 'S'),\n",
       "  Text(0.4614522559226597, -0.9985298270476893, 'C'),\n",
       "  Text(1.0595276168013974, -0.29563698894954155, 'Q')],\n",
       " [Text(-0.38882172077891114, 0.4569657202138104, '72.44%'),\n",
       "  Text(0.25170123050326887, -0.5446526329351032, '18.90%'),\n",
       "  Text(0.577924154618944, -0.16125653942702264, '8.66%')])"
      ]
     },
     "execution_count": 97,
     "metadata": {},
     "output_type": "execute_result"
    },
    {
     "data": {
      "image/png": "[encoded data removed]",
      "text/plain": [
       "<Figure size 640x480 with 1 Axes>"
      ]
     },
     "metadata": {},
     "output_type": "display_data"
    }
   ],
   "source": [
    "plt.pie(df_value,labels=df_name,autopct=\"%1.2f%%\")"
   ]
  },
  {
   "cell_type": "code",
   "execution_count": 100,
   "id": "ae10e45c",
   "metadata": {},
   "outputs": [
    {
     "data": {
      "text/plain": [
       "2"
      ]
     },
     "execution_count": 100,
     "metadata": {},
     "output_type": "execute_result"
    }
   ],
   "source": [
    "df[\"Embarked\"].isnull().sum()"
   ]
  },
  {
   "cell_type": "markdown",
   "id": "e3461c57",
   "metadata": {},
   "source": [
    "# Steps of doing Bivariate Analysis\n",
    "Select 2 cols\n",
    "\n",
    "Understand type of relationship\n",
    "\n",
    "    1.Numerical - Numerical\n",
    "      a. You can plot graphs like scatterplot(regression plots), 2D histplot, 2D KDEplots\n",
    "      b. Check correlation coefficent to check linear relationship\n",
    "    2.Numerical - Categorical - \n",
    "    a.create visualizations that compare the distribution of the numerical data across different categories of the categorical data.\n",
    "    b.You can plot graphs like barplot, boxplot, kdeplot violinplot even scatterplots\n",
    "    3.Categorical - Categorical\n",
    "    a. You can create cross-tabulations or contingency tables that show the distribution of values in one categorical column, grouped by the values in the other categorical column.\n",
    "    b. You can plots like heatmap, stacked barplots, treemaps"
   ]
  },
  {
   "cell_type": "code",
   "execution_count": 103,
   "id": "bf761e44",
   "metadata": {},
   "outputs": [
    {
     "data": {
      "text/html": [
       "<div>\n",
       "<style scoped>\n",
       "    .dataframe tbody tr th:only-of-type {\n",
       "        vertical-align: middle;\n",
       "    }\n",
       "\n",
       "    .dataframe tbody tr th {\n",
       "        vertical-align: top;\n",
       "    }\n",
       "\n",
       "    .dataframe thead th {\n",
       "        text-align: right;\n",
       "    }\n",
       "</style>\n",
       "<table border=\"1\" class=\"dataframe\">\n",
       "  <thead>\n",
       "    <tr style=\"text-align: right;\">\n",
       "      <th></th>\n",
       "      <th>PassengerId</th>\n",
       "      <th>Survived</th>\n",
       "      <th>Pclass</th>\n",
       "      <th>Name</th>\n",
       "      <th>Sex</th>\n",
       "      <th>Age</th>\n",
       "      <th>SibSp</th>\n",
       "      <th>Parch</th>\n",
       "      <th>Ticket</th>\n",
       "      <th>Fare</th>\n",
       "      <th>Cabin</th>\n",
       "      <th>Embarked</th>\n",
       "    </tr>\n",
       "  </thead>\n",
       "  <tbody>\n",
       "    <tr>\n",
       "      <th>0</th>\n",
       "      <td>1</td>\n",
       "      <td>0</td>\n",
       "      <td>3</td>\n",
       "      <td>Braund, Mr. Owen Harris</td>\n",
       "      <td>male</td>\n",
       "      <td>22.0</td>\n",
       "      <td>1</td>\n",
       "      <td>0</td>\n",
       "      <td>A/5 21171</td>\n",
       "      <td>7.2500</td>\n",
       "      <td>NaN</td>\n",
       "      <td>S</td>\n",
       "    </tr>\n",
       "    <tr>\n",
       "      <th>1</th>\n",
       "      <td>2</td>\n",
       "      <td>1</td>\n",
       "      <td>1</td>\n",
       "      <td>Cumings, Mrs. John Bradley (Florence Briggs Th...</td>\n",
       "      <td>female</td>\n",
       "      <td>38.0</td>\n",
       "      <td>1</td>\n",
       "      <td>0</td>\n",
       "      <td>PC 17599</td>\n",
       "      <td>71.2833</td>\n",
       "      <td>C85</td>\n",
       "      <td>C</td>\n",
       "    </tr>\n",
       "  </tbody>\n",
       "</table>\n",
       "</div>"
      ],
      "text/plain": [
       "   PassengerId  Survived  Pclass  \\\n",
       "0            1         0       3   \n",
       "1            2         1       1   \n",
       "\n",
       "                                                Name     Sex   Age  SibSp  \\\n",
       "0                            Braund, Mr. Owen Harris    male  22.0      1   \n",
       "1  Cumings, Mrs. John Bradley (Florence Briggs Th...  female  38.0      1   \n",
       "\n",
       "   Parch     Ticket     Fare Cabin Embarked  \n",
       "0      0  A/5 21171   7.2500   NaN        S  \n",
       "1      0   PC 17599  71.2833   C85        C  "
      ]
     },
     "execution_count": 103,
     "metadata": {},
     "output_type": "execute_result"
    }
   ],
   "source": [
    "#Bivariate analysis \n",
    "df.head(2)"
   ]
  },
  {
   "cell_type": "code",
   "execution_count": 106,
   "id": "87c15ae2",
   "metadata": {},
   "outputs": [
    {
     "data": {
      "text/html": [
       "<div>\n",
       "<style scoped>\n",
       "    .dataframe tbody tr th:only-of-type {\n",
       "        vertical-align: middle;\n",
       "    }\n",
       "\n",
       "    .dataframe tbody tr th {\n",
       "        vertical-align: top;\n",
       "    }\n",
       "\n",
       "    .dataframe thead th {\n",
       "        text-align: right;\n",
       "    }\n",
       "</style>\n",
       "<table border=\"1\" class=\"dataframe\">\n",
       "  <thead>\n",
       "    <tr style=\"text-align: right;\">\n",
       "      <th>Pclass</th>\n",
       "      <th>1</th>\n",
       "      <th>2</th>\n",
       "      <th>3</th>\n",
       "    </tr>\n",
       "    <tr>\n",
       "      <th>Survived</th>\n",
       "      <th></th>\n",
       "      <th></th>\n",
       "      <th></th>\n",
       "    </tr>\n",
       "  </thead>\n",
       "  <tbody>\n",
       "    <tr>\n",
       "      <th>0</th>\n",
       "      <td>37.037037</td>\n",
       "      <td>52.717391</td>\n",
       "      <td>75.763747</td>\n",
       "    </tr>\n",
       "    <tr>\n",
       "      <th>1</th>\n",
       "      <td>62.962963</td>\n",
       "      <td>47.282609</td>\n",
       "      <td>24.236253</td>\n",
       "    </tr>\n",
       "  </tbody>\n",
       "</table>\n",
       "</div>"
      ],
      "text/plain": [
       "Pclass            1          2          3\n",
       "Survived                                 \n",
       "0         37.037037  52.717391  75.763747\n",
       "1         62.962963  47.282609  24.236253"
      ]
     },
     "execution_count": 106,
     "metadata": {},
     "output_type": "execute_result"
    }
   ],
   "source": [
    "#categorical-categorical data\n",
    "pd.crosstab(df[\"Survived\"],df[\"Pclass\"],normalize='columns')*100"
   ]
  },
  {
   "cell_type": "code",
   "execution_count": 112,
   "id": "f2ecef73",
   "metadata": {},
   "outputs": [
    {
     "data": {
      "text/plain": [
       "<Axes: xlabel='Pclass', ylabel='Survived'>"
      ]
     },
     "execution_count": 112,
     "metadata": {},
     "output_type": "execute_result"
    },
    {
     "data": {
      "image/png": "[encoded data removed]",
      "text/plain": [
       "<Figure size 640x480 with 2 Axes>"
      ]
     },
     "metadata": {},
     "output_type": "display_data"
    }
   ],
   "source": [
    "sns.heatmap(pd.crosstab(df[\"Survived\"],df[\"Pclass\"],normalize='columns')*100,cmap=\"coolwarm\")"
   ]
  },
  {
   "cell_type": "markdown",
   "id": "dd999d96",
   "metadata": {},
   "source": [
    "# Conclusions.\n",
    "     1.Majority of people are died whom are sitting in Pclass 3.\n",
    "     2.Minority of people are died whom are sitting in Pclass 1."
   ]
  },
  {
   "cell_type": "code",
   "execution_count": 114,
   "id": "50db4269",
   "metadata": {},
   "outputs": [
    {
     "data": {
      "text/html": [
       "<div>\n",
       "<style scoped>\n",
       "    .dataframe tbody tr th:only-of-type {\n",
       "        vertical-align: middle;\n",
       "    }\n",
       "\n",
       "    .dataframe tbody tr th {\n",
       "        vertical-align: top;\n",
       "    }\n",
       "\n",
       "    .dataframe thead th {\n",
       "        text-align: right;\n",
       "    }\n",
       "</style>\n",
       "<table border=\"1\" class=\"dataframe\">\n",
       "  <thead>\n",
       "    <tr style=\"text-align: right;\">\n",
       "      <th>Sex</th>\n",
       "      <th>female</th>\n",
       "      <th>male</th>\n",
       "    </tr>\n",
       "    <tr>\n",
       "      <th>Survived</th>\n",
       "      <th></th>\n",
       "      <th></th>\n",
       "    </tr>\n",
       "  </thead>\n",
       "  <tbody>\n",
       "    <tr>\n",
       "      <th>0</th>\n",
       "      <td>25.796178</td>\n",
       "      <td>81.109185</td>\n",
       "    </tr>\n",
       "    <tr>\n",
       "      <th>1</th>\n",
       "      <td>74.203822</td>\n",
       "      <td>18.890815</td>\n",
       "    </tr>\n",
       "  </tbody>\n",
       "</table>\n",
       "</div>"
      ],
      "text/plain": [
       "Sex          female       male\n",
       "Survived                      \n",
       "0         25.796178  81.109185\n",
       "1         74.203822  18.890815"
      ]
     },
     "execution_count": 114,
     "metadata": {},
     "output_type": "execute_result"
    }
   ],
   "source": [
    "#now for survived and sex\n",
    "pd.crosstab(df[\"Survived\"],df[\"Sex\"],normalize=\"columns\")*100"
   ]
  },
  {
   "cell_type": "code",
   "execution_count": 115,
   "id": "f0f8fb92",
   "metadata": {},
   "outputs": [
    {
     "data": {
      "text/plain": [
       "<Axes: xlabel='Sex', ylabel='Survived'>"
      ]
     },
     "execution_count": 115,
     "metadata": {},
     "output_type": "execute_result"
    },
    {
     "data": {
      "image/png": "[encoded data removed]",
      "text/plain": [
       "<Figure size 640x480 with 2 Axes>"
      ]
     },
     "metadata": {},
     "output_type": "display_data"
    }
   ],
   "source": [
    "sns.heatmap(pd.crosstab(df[\"Survived\"],df[\"Sex\"],normalize=\"columns\")*100)"
   ]
  },
  {
   "cell_type": "markdown",
   "id": "903e11de",
   "metadata": {},
   "source": [
    "# conclusions:->\n",
    "      1.Majority of males are died than females."
   ]
  },
  {
   "cell_type": "code",
   "execution_count": 126,
   "id": "d6dd894b",
   "metadata": {},
   "outputs": [
    {
     "data": {
      "image/png": "[encoded data removed]",
      "text/plain": [
       "<Figure size 640x480 with 1 Axes>"
      ]
     },
     "metadata": {},
     "output_type": "display_data"
    }
   ],
   "source": [
    "#Categorical and numerical data.\n",
    "df[df['Survived'] == 1]['Age'].plot(kind='kde',label='Survived')\n",
    "df[df['Survived'] == 0]['Age'].plot(kind='kde',label='NotSurvived')\n",
    "plt.legend()\n",
    "plt.show()\n"
   ]
  },
  {
   "cell_type": "code",
   "execution_count": 130,
   "id": "dc933ce9",
   "metadata": {},
   "outputs": [
    {
     "data": {
      "image/png": "[encoded data removed]",
      "text/plain": [
       "<Figure size 640x480 with 1 Axes>"
      ]
     },
     "metadata": {},
     "output_type": "display_data"
    }
   ],
   "source": [
    "#pclass and Fare\n",
    "df[df[\"Pclass\"]==1][\"Fare\"].plot(kind=\"kde\",label=\"1stclass\")\n",
    "df[df[\"Pclass\"]==2][\"Fare\"].plot(kind=\"kde\",label=\"2ndclass\")\n",
    "df[df[\"Pclass\"]==3][\"Fare\"].plot(kind=\"kde\",label=\"3rd class\")\n",
    "plt.legend()\n",
    "plt.show()"
   ]
  },
  {
   "cell_type": "markdown",
   "id": "794f6bdd",
   "metadata": {},
   "source": [
    "# FEATURE ENGINEERING."
   ]
  },
  {
   "cell_type": "code",
   "execution_count": 132,
   "id": "8593c625",
   "metadata": {},
   "outputs": [
    {
     "data": {
      "text/html": [
       "<div>\n",
       "<style scoped>\n",
       "    .dataframe tbody tr th:only-of-type {\n",
       "        vertical-align: middle;\n",
       "    }\n",
       "\n",
       "    .dataframe tbody tr th {\n",
       "        vertical-align: top;\n",
       "    }\n",
       "\n",
       "    .dataframe thead th {\n",
       "        text-align: right;\n",
       "    }\n",
       "</style>\n",
       "<table border=\"1\" class=\"dataframe\">\n",
       "  <thead>\n",
       "    <tr style=\"text-align: right;\">\n",
       "      <th></th>\n",
       "      <th>PassengerId</th>\n",
       "      <th>Survived</th>\n",
       "      <th>Pclass</th>\n",
       "      <th>Name</th>\n",
       "      <th>Sex</th>\n",
       "      <th>Age</th>\n",
       "      <th>SibSp</th>\n",
       "      <th>Parch</th>\n",
       "      <th>Ticket</th>\n",
       "      <th>Fare</th>\n",
       "      <th>Cabin</th>\n",
       "      <th>Embarked</th>\n",
       "    </tr>\n",
       "  </thead>\n",
       "  <tbody>\n",
       "    <tr>\n",
       "      <th>0</th>\n",
       "      <td>1</td>\n",
       "      <td>0.0</td>\n",
       "      <td>3</td>\n",
       "      <td>Braund, Mr. Owen Harris</td>\n",
       "      <td>male</td>\n",
       "      <td>22.0</td>\n",
       "      <td>1</td>\n",
       "      <td>0</td>\n",
       "      <td>A/5 21171</td>\n",
       "      <td>7.2500</td>\n",
       "      <td>NaN</td>\n",
       "      <td>S</td>\n",
       "    </tr>\n",
       "    <tr>\n",
       "      <th>1</th>\n",
       "      <td>2</td>\n",
       "      <td>1.0</td>\n",
       "      <td>1</td>\n",
       "      <td>Cumings, Mrs. John Bradley (Florence Briggs Th...</td>\n",
       "      <td>female</td>\n",
       "      <td>38.0</td>\n",
       "      <td>1</td>\n",
       "      <td>0</td>\n",
       "      <td>PC 17599</td>\n",
       "      <td>71.2833</td>\n",
       "      <td>C85</td>\n",
       "      <td>C</td>\n",
       "    </tr>\n",
       "    <tr>\n",
       "      <th>2</th>\n",
       "      <td>3</td>\n",
       "      <td>1.0</td>\n",
       "      <td>3</td>\n",
       "      <td>Heikkinen, Miss. Laina</td>\n",
       "      <td>female</td>\n",
       "      <td>26.0</td>\n",
       "      <td>0</td>\n",
       "      <td>0</td>\n",
       "      <td>STON/O2. 3101282</td>\n",
       "      <td>7.9250</td>\n",
       "      <td>NaN</td>\n",
       "      <td>S</td>\n",
       "    </tr>\n",
       "    <tr>\n",
       "      <th>3</th>\n",
       "      <td>4</td>\n",
       "      <td>1.0</td>\n",
       "      <td>1</td>\n",
       "      <td>Futrelle, Mrs. Jacques Heath (Lily May Peel)</td>\n",
       "      <td>female</td>\n",
       "      <td>35.0</td>\n",
       "      <td>1</td>\n",
       "      <td>0</td>\n",
       "      <td>113803</td>\n",
       "      <td>53.1000</td>\n",
       "      <td>C123</td>\n",
       "      <td>S</td>\n",
       "    </tr>\n",
       "    <tr>\n",
       "      <th>4</th>\n",
       "      <td>5</td>\n",
       "      <td>0.0</td>\n",
       "      <td>3</td>\n",
       "      <td>Allen, Mr. William Henry</td>\n",
       "      <td>male</td>\n",
       "      <td>35.0</td>\n",
       "      <td>0</td>\n",
       "      <td>0</td>\n",
       "      <td>373450</td>\n",
       "      <td>8.0500</td>\n",
       "      <td>NaN</td>\n",
       "      <td>S</td>\n",
       "    </tr>\n",
       "  </tbody>\n",
       "</table>\n",
       "</div>"
      ],
      "text/plain": [
       "   PassengerId  Survived  Pclass  \\\n",
       "0            1       0.0       3   \n",
       "1            2       1.0       1   \n",
       "2            3       1.0       3   \n",
       "3            4       1.0       1   \n",
       "4            5       0.0       3   \n",
       "\n",
       "                                                Name     Sex   Age  SibSp  \\\n",
       "0                            Braund, Mr. Owen Harris    male  22.0      1   \n",
       "1  Cumings, Mrs. John Bradley (Florence Briggs Th...  female  38.0      1   \n",
       "2                             Heikkinen, Miss. Laina  female  26.0      0   \n",
       "3       Futrelle, Mrs. Jacques Heath (Lily May Peel)  female  35.0      1   \n",
       "4                           Allen, Mr. William Henry    male  35.0      0   \n",
       "\n",
       "   Parch            Ticket     Fare Cabin Embarked  \n",
       "0      0         A/5 21171   7.2500   NaN        S  \n",
       "1      0          PC 17599  71.2833   C85        C  \n",
       "2      0  STON/O2. 3101282   7.9250   NaN        S  \n",
       "3      0            113803  53.1000  C123        S  \n",
       "4      0            373450   8.0500   NaN        S  "
      ]
     },
     "execution_count": 132,
     "metadata": {},
     "output_type": "execute_result"
    }
   ],
   "source": [
    "final_df.head()"
   ]
  },
  {
   "cell_type": "code",
   "execution_count": 134,
   "id": "39dec9dc",
   "metadata": {},
   "outputs": [],
   "source": [
    "#now taking the name variables.\n",
    "final_df[\"Sr_name\"] = final_df[\"Name\"].str.split(\",\").str[0]\n",
    "final_df[\"Actual Name\"] = final_df[\"Name\"].str.split(\",\").str[1]"
   ]
  },
  {
   "cell_type": "code",
   "execution_count": 136,
   "id": "8f848a94",
   "metadata": {},
   "outputs": [
    {
     "data": {
      "text/html": [
       "<div>\n",
       "<style scoped>\n",
       "    .dataframe tbody tr th:only-of-type {\n",
       "        vertical-align: middle;\n",
       "    }\n",
       "\n",
       "    .dataframe tbody tr th {\n",
       "        vertical-align: top;\n",
       "    }\n",
       "\n",
       "    .dataframe thead th {\n",
       "        text-align: right;\n",
       "    }\n",
       "</style>\n",
       "<table border=\"1\" class=\"dataframe\">\n",
       "  <thead>\n",
       "    <tr style=\"text-align: right;\">\n",
       "      <th></th>\n",
       "      <th>PassengerId</th>\n",
       "      <th>Survived</th>\n",
       "      <th>Pclass</th>\n",
       "      <th>Name</th>\n",
       "      <th>Sex</th>\n",
       "      <th>Age</th>\n",
       "      <th>SibSp</th>\n",
       "      <th>Parch</th>\n",
       "      <th>Ticket</th>\n",
       "      <th>Fare</th>\n",
       "      <th>Cabin</th>\n",
       "      <th>Embarked</th>\n",
       "      <th>Sr_name</th>\n",
       "      <th>Actual Name</th>\n",
       "    </tr>\n",
       "  </thead>\n",
       "  <tbody>\n",
       "    <tr>\n",
       "      <th>0</th>\n",
       "      <td>1</td>\n",
       "      <td>0.0</td>\n",
       "      <td>3</td>\n",
       "      <td>Braund, Mr. Owen Harris</td>\n",
       "      <td>male</td>\n",
       "      <td>22.0</td>\n",
       "      <td>1</td>\n",
       "      <td>0</td>\n",
       "      <td>A/5 21171</td>\n",
       "      <td>7.2500</td>\n",
       "      <td>NaN</td>\n",
       "      <td>S</td>\n",
       "      <td>Braund</td>\n",
       "      <td>Mr. Owen Harris</td>\n",
       "    </tr>\n",
       "    <tr>\n",
       "      <th>1</th>\n",
       "      <td>2</td>\n",
       "      <td>1.0</td>\n",
       "      <td>1</td>\n",
       "      <td>Cumings, Mrs. John Bradley (Florence Briggs Th...</td>\n",
       "      <td>female</td>\n",
       "      <td>38.0</td>\n",
       "      <td>1</td>\n",
       "      <td>0</td>\n",
       "      <td>PC 17599</td>\n",
       "      <td>71.2833</td>\n",
       "      <td>C85</td>\n",
       "      <td>C</td>\n",
       "      <td>Cumings</td>\n",
       "      <td>Mrs. John Bradley (Florence Briggs Thayer)</td>\n",
       "    </tr>\n",
       "  </tbody>\n",
       "</table>\n",
       "</div>"
      ],
      "text/plain": [
       "   PassengerId  Survived  Pclass  \\\n",
       "0            1       0.0       3   \n",
       "1            2       1.0       1   \n",
       "\n",
       "                                                Name     Sex   Age  SibSp  \\\n",
       "0                            Braund, Mr. Owen Harris    male  22.0      1   \n",
       "1  Cumings, Mrs. John Bradley (Florence Briggs Th...  female  38.0      1   \n",
       "\n",
       "   Parch     Ticket     Fare Cabin Embarked  Sr_name  \\\n",
       "0      0  A/5 21171   7.2500   NaN        S   Braund   \n",
       "1      0   PC 17599  71.2833   C85        C  Cumings   \n",
       "\n",
       "                                   Actual Name  \n",
       "0                              Mr. Owen Harris  \n",
       "1   Mrs. John Bradley (Florence Briggs Thayer)  "
      ]
     },
     "execution_count": 136,
     "metadata": {},
     "output_type": "execute_result"
    }
   ],
   "source": [
    "final_df.head(2)"
   ]
  },
  {
   "cell_type": "code",
   "execution_count": 137,
   "id": "b27a118e",
   "metadata": {},
   "outputs": [],
   "source": [
    "final_df.drop(\"Name\",axis=1,inplace=True)"
   ]
  },
  {
   "cell_type": "code",
   "execution_count": 138,
   "id": "292a0da8",
   "metadata": {},
   "outputs": [
    {
     "data": {
      "text/html": [
       "<div>\n",
       "<style scoped>\n",
       "    .dataframe tbody tr th:only-of-type {\n",
       "        vertical-align: middle;\n",
       "    }\n",
       "\n",
       "    .dataframe tbody tr th {\n",
       "        vertical-align: top;\n",
       "    }\n",
       "\n",
       "    .dataframe thead th {\n",
       "        text-align: right;\n",
       "    }\n",
       "</style>\n",
       "<table border=\"1\" class=\"dataframe\">\n",
       "  <thead>\n",
       "    <tr style=\"text-align: right;\">\n",
       "      <th></th>\n",
       "      <th>PassengerId</th>\n",
       "      <th>Survived</th>\n",
       "      <th>Pclass</th>\n",
       "      <th>Sex</th>\n",
       "      <th>Age</th>\n",
       "      <th>SibSp</th>\n",
       "      <th>Parch</th>\n",
       "      <th>Ticket</th>\n",
       "      <th>Fare</th>\n",
       "      <th>Cabin</th>\n",
       "      <th>Embarked</th>\n",
       "      <th>Sr_name</th>\n",
       "      <th>Actual Name</th>\n",
       "    </tr>\n",
       "  </thead>\n",
       "  <tbody>\n",
       "    <tr>\n",
       "      <th>0</th>\n",
       "      <td>1</td>\n",
       "      <td>0.0</td>\n",
       "      <td>3</td>\n",
       "      <td>male</td>\n",
       "      <td>22.0</td>\n",
       "      <td>1</td>\n",
       "      <td>0</td>\n",
       "      <td>A/5 21171</td>\n",
       "      <td>7.2500</td>\n",
       "      <td>NaN</td>\n",
       "      <td>S</td>\n",
       "      <td>Braund</td>\n",
       "      <td>Mr. Owen Harris</td>\n",
       "    </tr>\n",
       "    <tr>\n",
       "      <th>1</th>\n",
       "      <td>2</td>\n",
       "      <td>1.0</td>\n",
       "      <td>1</td>\n",
       "      <td>female</td>\n",
       "      <td>38.0</td>\n",
       "      <td>1</td>\n",
       "      <td>0</td>\n",
       "      <td>PC 17599</td>\n",
       "      <td>71.2833</td>\n",
       "      <td>C85</td>\n",
       "      <td>C</td>\n",
       "      <td>Cumings</td>\n",
       "      <td>Mrs. John Bradley (Florence Briggs Thayer)</td>\n",
       "    </tr>\n",
       "  </tbody>\n",
       "</table>\n",
       "</div>"
      ],
      "text/plain": [
       "   PassengerId  Survived  Pclass     Sex   Age  SibSp  Parch     Ticket  \\\n",
       "0            1       0.0       3    male  22.0      1      0  A/5 21171   \n",
       "1            2       1.0       1  female  38.0      1      0   PC 17599   \n",
       "\n",
       "      Fare Cabin Embarked  Sr_name  \\\n",
       "0   7.2500   NaN        S   Braund   \n",
       "1  71.2833   C85        C  Cumings   \n",
       "\n",
       "                                   Actual Name  \n",
       "0                              Mr. Owen Harris  \n",
       "1   Mrs. John Bradley (Florence Briggs Thayer)  "
      ]
     },
     "execution_count": 138,
     "metadata": {},
     "output_type": "execute_result"
    }
   ],
   "source": [
    "final_df.head(2)"
   ]
  },
  {
   "cell_type": "code",
   "execution_count": 145,
   "id": "fc94f869",
   "metadata": {},
   "outputs": [],
   "source": [
    "final_df[\"Age\"]=final_df[\"Age\"].astype(str)\n",
    "\n"
   ]
  },
  {
   "cell_type": "code",
   "execution_count": 146,
   "id": "3cd105cd",
   "metadata": {},
   "outputs": [],
   "source": [
    "final_df[\"Age\"] = final_df[\"Age\"].str.split(\".\").str[0]"
   ]
  },
  {
   "cell_type": "code",
   "execution_count": 148,
   "id": "4697a8b6",
   "metadata": {},
   "outputs": [
    {
     "data": {
      "text/html": [
       "<div>\n",
       "<style scoped>\n",
       "    .dataframe tbody tr th:only-of-type {\n",
       "        vertical-align: middle;\n",
       "    }\n",
       "\n",
       "    .dataframe tbody tr th {\n",
       "        vertical-align: top;\n",
       "    }\n",
       "\n",
       "    .dataframe thead th {\n",
       "        text-align: right;\n",
       "    }\n",
       "</style>\n",
       "<table border=\"1\" class=\"dataframe\">\n",
       "  <thead>\n",
       "    <tr style=\"text-align: right;\">\n",
       "      <th></th>\n",
       "      <th>PassengerId</th>\n",
       "      <th>Survived</th>\n",
       "      <th>Pclass</th>\n",
       "      <th>Sex</th>\n",
       "      <th>Age</th>\n",
       "      <th>SibSp</th>\n",
       "      <th>Parch</th>\n",
       "      <th>Ticket</th>\n",
       "      <th>Fare</th>\n",
       "      <th>Cabin</th>\n",
       "      <th>Embarked</th>\n",
       "      <th>Sr_name</th>\n",
       "      <th>Actual Name</th>\n",
       "    </tr>\n",
       "  </thead>\n",
       "  <tbody>\n",
       "    <tr>\n",
       "      <th>0</th>\n",
       "      <td>1</td>\n",
       "      <td>0.0</td>\n",
       "      <td>3</td>\n",
       "      <td>male</td>\n",
       "      <td>22</td>\n",
       "      <td>1</td>\n",
       "      <td>0</td>\n",
       "      <td>A/5 21171</td>\n",
       "      <td>7.2500</td>\n",
       "      <td>NaN</td>\n",
       "      <td>S</td>\n",
       "      <td>Braund</td>\n",
       "      <td>Mr. Owen Harris</td>\n",
       "    </tr>\n",
       "    <tr>\n",
       "      <th>1</th>\n",
       "      <td>2</td>\n",
       "      <td>1.0</td>\n",
       "      <td>1</td>\n",
       "      <td>female</td>\n",
       "      <td>38</td>\n",
       "      <td>1</td>\n",
       "      <td>0</td>\n",
       "      <td>PC 17599</td>\n",
       "      <td>71.2833</td>\n",
       "      <td>C85</td>\n",
       "      <td>C</td>\n",
       "      <td>Cumings</td>\n",
       "      <td>Mrs. John Bradley (Florence Briggs Thayer)</td>\n",
       "    </tr>\n",
       "  </tbody>\n",
       "</table>\n",
       "</div>"
      ],
      "text/plain": [
       "   PassengerId  Survived  Pclass     Sex Age  SibSp  Parch     Ticket  \\\n",
       "0            1       0.0       3    male  22      1      0  A/5 21171   \n",
       "1            2       1.0       1  female  38      1      0   PC 17599   \n",
       "\n",
       "      Fare Cabin Embarked  Sr_name  \\\n",
       "0   7.2500   NaN        S   Braund   \n",
       "1  71.2833   C85        C  Cumings   \n",
       "\n",
       "                                   Actual Name  \n",
       "0                              Mr. Owen Harris  \n",
       "1   Mrs. John Bradley (Florence Briggs Thayer)  "
      ]
     },
     "execution_count": 148,
     "metadata": {},
     "output_type": "execute_result"
    }
   ],
   "source": [
    "final_df.head(2)"
   ]
  },
  {
   "cell_type": "code",
   "execution_count": 153,
   "id": "6e36cdf3",
   "metadata": {},
   "outputs": [],
   "source": [
    "final_df[\"INDIVIDUAL_FARE\"]=final_df[\"Fare\"]/(final_df[\"SibSp\"]+final_df[\"Parch\"]+1)"
   ]
  },
  {
   "cell_type": "code",
   "execution_count": 154,
   "id": "e45e2682",
   "metadata": {},
   "outputs": [
    {
     "data": {
      "text/html": [
       "<div>\n",
       "<style scoped>\n",
       "    .dataframe tbody tr th:only-of-type {\n",
       "        vertical-align: middle;\n",
       "    }\n",
       "\n",
       "    .dataframe tbody tr th {\n",
       "        vertical-align: top;\n",
       "    }\n",
       "\n",
       "    .dataframe thead th {\n",
       "        text-align: right;\n",
       "    }\n",
       "</style>\n",
       "<table border=\"1\" class=\"dataframe\">\n",
       "  <thead>\n",
       "    <tr style=\"text-align: right;\">\n",
       "      <th></th>\n",
       "      <th>PassengerId</th>\n",
       "      <th>Survived</th>\n",
       "      <th>Pclass</th>\n",
       "      <th>Sex</th>\n",
       "      <th>Age</th>\n",
       "      <th>SibSp</th>\n",
       "      <th>Parch</th>\n",
       "      <th>Ticket</th>\n",
       "      <th>Fare</th>\n",
       "      <th>Cabin</th>\n",
       "      <th>Embarked</th>\n",
       "      <th>Sr_name</th>\n",
       "      <th>Actual Name</th>\n",
       "      <th>INDIVIDUAL_FARE</th>\n",
       "    </tr>\n",
       "  </thead>\n",
       "  <tbody>\n",
       "    <tr>\n",
       "      <th>0</th>\n",
       "      <td>1</td>\n",
       "      <td>0.0</td>\n",
       "      <td>3</td>\n",
       "      <td>male</td>\n",
       "      <td>22</td>\n",
       "      <td>1</td>\n",
       "      <td>0</td>\n",
       "      <td>A/5 21171</td>\n",
       "      <td>7.2500</td>\n",
       "      <td>NaN</td>\n",
       "      <td>S</td>\n",
       "      <td>Braund</td>\n",
       "      <td>Mr. Owen Harris</td>\n",
       "      <td>3.62500</td>\n",
       "    </tr>\n",
       "    <tr>\n",
       "      <th>1</th>\n",
       "      <td>2</td>\n",
       "      <td>1.0</td>\n",
       "      <td>1</td>\n",
       "      <td>female</td>\n",
       "      <td>38</td>\n",
       "      <td>1</td>\n",
       "      <td>0</td>\n",
       "      <td>PC 17599</td>\n",
       "      <td>71.2833</td>\n",
       "      <td>C85</td>\n",
       "      <td>C</td>\n",
       "      <td>Cumings</td>\n",
       "      <td>Mrs. John Bradley (Florence Briggs Thayer)</td>\n",
       "      <td>35.64165</td>\n",
       "    </tr>\n",
       "  </tbody>\n",
       "</table>\n",
       "</div>"
      ],
      "text/plain": [
       "   PassengerId  Survived  Pclass     Sex Age  SibSp  Parch     Ticket  \\\n",
       "0            1       0.0       3    male  22      1      0  A/5 21171   \n",
       "1            2       1.0       1  female  38      1      0   PC 17599   \n",
       "\n",
       "      Fare Cabin Embarked  Sr_name  \\\n",
       "0   7.2500   NaN        S   Braund   \n",
       "1  71.2833   C85        C  Cumings   \n",
       "\n",
       "                                   Actual Name  INDIVIDUAL_FARE  \n",
       "0                              Mr. Owen Harris          3.62500  \n",
       "1   Mrs. John Bradley (Florence Briggs Thayer)         35.64165  "
      ]
     },
     "execution_count": 154,
     "metadata": {},
     "output_type": "execute_result"
    }
   ],
   "source": [
    "final_df.head(2)"
   ]
  },
  {
   "cell_type": "code",
   "execution_count": 155,
   "id": "db4209c6",
   "metadata": {},
   "outputs": [],
   "source": [
    "final_df.drop(\"Fare\",axis=1,inplace=True)"
   ]
  },
  {
   "cell_type": "code",
   "execution_count": 156,
   "id": "80e36e2b",
   "metadata": {},
   "outputs": [
    {
     "data": {
      "text/html": [
       "<div>\n",
       "<style scoped>\n",
       "    .dataframe tbody tr th:only-of-type {\n",
       "        vertical-align: middle;\n",
       "    }\n",
       "\n",
       "    .dataframe tbody tr th {\n",
       "        vertical-align: top;\n",
       "    }\n",
       "\n",
       "    .dataframe thead th {\n",
       "        text-align: right;\n",
       "    }\n",
       "</style>\n",
       "<table border=\"1\" class=\"dataframe\">\n",
       "  <thead>\n",
       "    <tr style=\"text-align: right;\">\n",
       "      <th></th>\n",
       "      <th>PassengerId</th>\n",
       "      <th>Survived</th>\n",
       "      <th>Pclass</th>\n",
       "      <th>Sex</th>\n",
       "      <th>Age</th>\n",
       "      <th>SibSp</th>\n",
       "      <th>Parch</th>\n",
       "      <th>Ticket</th>\n",
       "      <th>Cabin</th>\n",
       "      <th>Embarked</th>\n",
       "      <th>Sr_name</th>\n",
       "      <th>Actual Name</th>\n",
       "      <th>INDIVIDUAL_FARE</th>\n",
       "    </tr>\n",
       "  </thead>\n",
       "  <tbody>\n",
       "    <tr>\n",
       "      <th>0</th>\n",
       "      <td>1</td>\n",
       "      <td>0.0</td>\n",
       "      <td>3</td>\n",
       "      <td>male</td>\n",
       "      <td>22</td>\n",
       "      <td>1</td>\n",
       "      <td>0</td>\n",
       "      <td>A/5 21171</td>\n",
       "      <td>NaN</td>\n",
       "      <td>S</td>\n",
       "      <td>Braund</td>\n",
       "      <td>Mr. Owen Harris</td>\n",
       "      <td>3.62500</td>\n",
       "    </tr>\n",
       "    <tr>\n",
       "      <th>1</th>\n",
       "      <td>2</td>\n",
       "      <td>1.0</td>\n",
       "      <td>1</td>\n",
       "      <td>female</td>\n",
       "      <td>38</td>\n",
       "      <td>1</td>\n",
       "      <td>0</td>\n",
       "      <td>PC 17599</td>\n",
       "      <td>C85</td>\n",
       "      <td>C</td>\n",
       "      <td>Cumings</td>\n",
       "      <td>Mrs. John Bradley (Florence Briggs Thayer)</td>\n",
       "      <td>35.64165</td>\n",
       "    </tr>\n",
       "  </tbody>\n",
       "</table>\n",
       "</div>"
      ],
      "text/plain": [
       "   PassengerId  Survived  Pclass     Sex Age  SibSp  Parch     Ticket Cabin  \\\n",
       "0            1       0.0       3    male  22      1      0  A/5 21171   NaN   \n",
       "1            2       1.0       1  female  38      1      0   PC 17599   C85   \n",
       "\n",
       "  Embarked  Sr_name                                  Actual Name  \\\n",
       "0        S   Braund                              Mr. Owen Harris   \n",
       "1        C  Cumings   Mrs. John Bradley (Florence Briggs Thayer)   \n",
       "\n",
       "   INDIVIDUAL_FARE  \n",
       "0          3.62500  \n",
       "1         35.64165  "
      ]
     },
     "execution_count": 156,
     "metadata": {},
     "output_type": "execute_result"
    }
   ],
   "source": [
    "final_df.head(2)"
   ]
  },
  {
   "cell_type": "code",
   "execution_count": 202,
   "id": "934170be",
   "metadata": {},
   "outputs": [],
   "source": [
    "final_df[\"Family_Size\"]=final_df[\"SibSp\"]+final_df[\"Parch\"]+1"
   ]
  },
  {
   "cell_type": "code",
   "execution_count": 203,
   "id": "9be3f792",
   "metadata": {},
   "outputs": [],
   "source": [
    "def transform(num):\n",
    "    if num==1:\n",
    "        return(\"The person is alone\")\n",
    "    elif num>1 & num<6:\n",
    "        return(\"This is a small family\")\n",
    "    elif num>7:\n",
    "        return(\"This is a large family\")"
   ]
  },
  {
   "cell_type": "code",
   "execution_count": 204,
   "id": "8d032670",
   "metadata": {},
   "outputs": [],
   "source": [
    "final_df[\"Family_Type\"]=final_df[\"Family_Size\"].apply(transform)"
   ]
  },
  {
   "cell_type": "code",
   "execution_count": 205,
   "id": "8231873c",
   "metadata": {},
   "outputs": [
    {
     "data": {
      "text/html": [
       "<div>\n",
       "<style scoped>\n",
       "    .dataframe tbody tr th:only-of-type {\n",
       "        vertical-align: middle;\n",
       "    }\n",
       "\n",
       "    .dataframe tbody tr th {\n",
       "        vertical-align: top;\n",
       "    }\n",
       "\n",
       "    .dataframe thead th {\n",
       "        text-align: right;\n",
       "    }\n",
       "</style>\n",
       "<table border=\"1\" class=\"dataframe\">\n",
       "  <thead>\n",
       "    <tr style=\"text-align: right;\">\n",
       "      <th></th>\n",
       "      <th>PassengerId</th>\n",
       "      <th>Survived</th>\n",
       "      <th>Pclass</th>\n",
       "      <th>Sex</th>\n",
       "      <th>Age</th>\n",
       "      <th>SibSp</th>\n",
       "      <th>Parch</th>\n",
       "      <th>Cabin</th>\n",
       "      <th>Embarked</th>\n",
       "      <th>Sr_name</th>\n",
       "      <th>Actual Name</th>\n",
       "      <th>INDIVIDUAL_FARE</th>\n",
       "      <th>Size</th>\n",
       "      <th>Family_Size</th>\n",
       "      <th>Family_Type</th>\n",
       "      <th>Ticket_name</th>\n",
       "    </tr>\n",
       "  </thead>\n",
       "  <tbody>\n",
       "    <tr>\n",
       "      <th>0</th>\n",
       "      <td>1</td>\n",
       "      <td>0.0</td>\n",
       "      <td>3</td>\n",
       "      <td>male</td>\n",
       "      <td>22</td>\n",
       "      <td>1</td>\n",
       "      <td>0</td>\n",
       "      <td>NaN</td>\n",
       "      <td>S</td>\n",
       "      <td>Braund</td>\n",
       "      <td>Mr. Owen Harris</td>\n",
       "      <td>3.62500</td>\n",
       "      <td>2</td>\n",
       "      <td>2</td>\n",
       "      <td>This is a small family</td>\n",
       "      <td>A/5</td>\n",
       "    </tr>\n",
       "    <tr>\n",
       "      <th>1</th>\n",
       "      <td>2</td>\n",
       "      <td>1.0</td>\n",
       "      <td>1</td>\n",
       "      <td>female</td>\n",
       "      <td>38</td>\n",
       "      <td>1</td>\n",
       "      <td>0</td>\n",
       "      <td>C85</td>\n",
       "      <td>C</td>\n",
       "      <td>Cumings</td>\n",
       "      <td>Mrs. John Bradley (Florence Briggs Thayer)</td>\n",
       "      <td>35.64165</td>\n",
       "      <td>2</td>\n",
       "      <td>2</td>\n",
       "      <td>This is a small family</td>\n",
       "      <td>PC</td>\n",
       "    </tr>\n",
       "  </tbody>\n",
       "</table>\n",
       "</div>"
      ],
      "text/plain": [
       "   PassengerId  Survived  Pclass     Sex Age  SibSp  Parch Cabin Embarked  \\\n",
       "0            1       0.0       3    male  22      1      0   NaN        S   \n",
       "1            2       1.0       1  female  38      1      0   C85        C   \n",
       "\n",
       "   Sr_name                                  Actual Name  INDIVIDUAL_FARE  \\\n",
       "0   Braund                              Mr. Owen Harris          3.62500   \n",
       "1  Cumings   Mrs. John Bradley (Florence Briggs Thayer)         35.64165   \n",
       "\n",
       "   Size  Family_Size             Family_Type Ticket_name  \n",
       "0     2            2  This is a small family         A/5  \n",
       "1     2            2  This is a small family          PC  "
      ]
     },
     "execution_count": 205,
     "metadata": {},
     "output_type": "execute_result"
    }
   ],
   "source": [
    "final_df.head(2)"
   ]
  },
  {
   "cell_type": "code",
   "execution_count": 190,
   "id": "528cac59",
   "metadata": {},
   "outputs": [],
   "source": [
    "final_df[\"Ticket_name\"]=final_df[\"Ticket\"].str.split(\" \").str[0]"
   ]
  },
  {
   "cell_type": "code",
   "execution_count": 191,
   "id": "65412cae",
   "metadata": {},
   "outputs": [],
   "source": [
    "final_df[\"Ticket_Code\"]=final_df[\"Ticket\"].str.split(\" \").str[1]"
   ]
  },
  {
   "cell_type": "code",
   "execution_count": 192,
   "id": "70562908",
   "metadata": {},
   "outputs": [
    {
     "data": {
      "text/html": [
       "<div>\n",
       "<style scoped>\n",
       "    .dataframe tbody tr th:only-of-type {\n",
       "        vertical-align: middle;\n",
       "    }\n",
       "\n",
       "    .dataframe tbody tr th {\n",
       "        vertical-align: top;\n",
       "    }\n",
       "\n",
       "    .dataframe thead th {\n",
       "        text-align: right;\n",
       "    }\n",
       "</style>\n",
       "<table border=\"1\" class=\"dataframe\">\n",
       "  <thead>\n",
       "    <tr style=\"text-align: right;\">\n",
       "      <th></th>\n",
       "      <th>PassengerId</th>\n",
       "      <th>Survived</th>\n",
       "      <th>Pclass</th>\n",
       "      <th>Sex</th>\n",
       "      <th>Age</th>\n",
       "      <th>SibSp</th>\n",
       "      <th>Parch</th>\n",
       "      <th>Ticket</th>\n",
       "      <th>Cabin</th>\n",
       "      <th>Embarked</th>\n",
       "      <th>Sr_name</th>\n",
       "      <th>Actual Name</th>\n",
       "      <th>INDIVIDUAL_FARE</th>\n",
       "      <th>Size</th>\n",
       "      <th>Family_Size</th>\n",
       "      <th>Family_Type</th>\n",
       "      <th>Ticket_name</th>\n",
       "      <th>Ticket_Code</th>\n",
       "    </tr>\n",
       "  </thead>\n",
       "  <tbody>\n",
       "    <tr>\n",
       "      <th>0</th>\n",
       "      <td>1</td>\n",
       "      <td>0.0</td>\n",
       "      <td>3</td>\n",
       "      <td>male</td>\n",
       "      <td>22</td>\n",
       "      <td>1</td>\n",
       "      <td>0</td>\n",
       "      <td>A/5</td>\n",
       "      <td>NaN</td>\n",
       "      <td>S</td>\n",
       "      <td>Braund</td>\n",
       "      <td>Mr. Owen Harris</td>\n",
       "      <td>3.62500</td>\n",
       "      <td>2</td>\n",
       "      <td>2</td>\n",
       "      <td>This is a small family</td>\n",
       "      <td>A/5</td>\n",
       "      <td>NaN</td>\n",
       "    </tr>\n",
       "    <tr>\n",
       "      <th>1</th>\n",
       "      <td>2</td>\n",
       "      <td>1.0</td>\n",
       "      <td>1</td>\n",
       "      <td>female</td>\n",
       "      <td>38</td>\n",
       "      <td>1</td>\n",
       "      <td>0</td>\n",
       "      <td>PC</td>\n",
       "      <td>C85</td>\n",
       "      <td>C</td>\n",
       "      <td>Cumings</td>\n",
       "      <td>Mrs. John Bradley (Florence Briggs Thayer)</td>\n",
       "      <td>35.64165</td>\n",
       "      <td>2</td>\n",
       "      <td>2</td>\n",
       "      <td>This is a small family</td>\n",
       "      <td>PC</td>\n",
       "      <td>NaN</td>\n",
       "    </tr>\n",
       "  </tbody>\n",
       "</table>\n",
       "</div>"
      ],
      "text/plain": [
       "   PassengerId  Survived  Pclass     Sex Age  SibSp  Parch Ticket Cabin  \\\n",
       "0            1       0.0       3    male  22      1      0    A/5   NaN   \n",
       "1            2       1.0       1  female  38      1      0     PC   C85   \n",
       "\n",
       "  Embarked  Sr_name                                  Actual Name  \\\n",
       "0        S   Braund                              Mr. Owen Harris   \n",
       "1        C  Cumings   Mrs. John Bradley (Florence Briggs Thayer)   \n",
       "\n",
       "   INDIVIDUAL_FARE  Size  Family_Size             Family_Type Ticket_name  \\\n",
       "0          3.62500     2            2  This is a small family         A/5   \n",
       "1         35.64165     2            2  This is a small family          PC   \n",
       "\n",
       "   Ticket_Code  \n",
       "0          NaN  \n",
       "1          NaN  "
      ]
     },
     "execution_count": 192,
     "metadata": {},
     "output_type": "execute_result"
    }
   ],
   "source": [
    "final_df.head(2)"
   ]
  },
  {
   "cell_type": "code",
   "execution_count": 197,
   "id": "5f72d925",
   "metadata": {},
   "outputs": [],
   "source": [
    "final_df.drop(\"Ticket_Code\",axis=1,inplace=True)"
   ]
  },
  {
   "cell_type": "code",
   "execution_count": 199,
   "id": "730d7b64",
   "metadata": {},
   "outputs": [],
   "source": [
    "final_df.drop(\"Ticket\",axis=1,inplace=True)"
   ]
  },
  {
   "cell_type": "code",
   "execution_count": 206,
   "id": "a12acad6",
   "metadata": {},
   "outputs": [],
   "source": [
    "final_df.drop(\"Size\",axis=1,inplace=True)"
   ]
  },
  {
   "cell_type": "code",
   "execution_count": 207,
   "id": "16d36d76",
   "metadata": {},
   "outputs": [
    {
     "data": {
      "text/html": [
       "<div>\n",
       "<style scoped>\n",
       "    .dataframe tbody tr th:only-of-type {\n",
       "        vertical-align: middle;\n",
       "    }\n",
       "\n",
       "    .dataframe tbody tr th {\n",
       "        vertical-align: top;\n",
       "    }\n",
       "\n",
       "    .dataframe thead th {\n",
       "        text-align: right;\n",
       "    }\n",
       "</style>\n",
       "<table border=\"1\" class=\"dataframe\">\n",
       "  <thead>\n",
       "    <tr style=\"text-align: right;\">\n",
       "      <th></th>\n",
       "      <th>PassengerId</th>\n",
       "      <th>Survived</th>\n",
       "      <th>Pclass</th>\n",
       "      <th>Sex</th>\n",
       "      <th>Age</th>\n",
       "      <th>SibSp</th>\n",
       "      <th>Parch</th>\n",
       "      <th>Cabin</th>\n",
       "      <th>Embarked</th>\n",
       "      <th>Sr_name</th>\n",
       "      <th>Actual Name</th>\n",
       "      <th>INDIVIDUAL_FARE</th>\n",
       "      <th>Family_Size</th>\n",
       "      <th>Family_Type</th>\n",
       "      <th>Ticket_name</th>\n",
       "    </tr>\n",
       "  </thead>\n",
       "  <tbody>\n",
       "    <tr>\n",
       "      <th>0</th>\n",
       "      <td>1</td>\n",
       "      <td>0.0</td>\n",
       "      <td>3</td>\n",
       "      <td>male</td>\n",
       "      <td>22</td>\n",
       "      <td>1</td>\n",
       "      <td>0</td>\n",
       "      <td>NaN</td>\n",
       "      <td>S</td>\n",
       "      <td>Braund</td>\n",
       "      <td>Mr. Owen Harris</td>\n",
       "      <td>3.62500</td>\n",
       "      <td>2</td>\n",
       "      <td>This is a small family</td>\n",
       "      <td>A/5</td>\n",
       "    </tr>\n",
       "    <tr>\n",
       "      <th>1</th>\n",
       "      <td>2</td>\n",
       "      <td>1.0</td>\n",
       "      <td>1</td>\n",
       "      <td>female</td>\n",
       "      <td>38</td>\n",
       "      <td>1</td>\n",
       "      <td>0</td>\n",
       "      <td>C85</td>\n",
       "      <td>C</td>\n",
       "      <td>Cumings</td>\n",
       "      <td>Mrs. John Bradley (Florence Briggs Thayer)</td>\n",
       "      <td>35.64165</td>\n",
       "      <td>2</td>\n",
       "      <td>This is a small family</td>\n",
       "      <td>PC</td>\n",
       "    </tr>\n",
       "  </tbody>\n",
       "</table>\n",
       "</div>"
      ],
      "text/plain": [
       "   PassengerId  Survived  Pclass     Sex Age  SibSp  Parch Cabin Embarked  \\\n",
       "0            1       0.0       3    male  22      1      0   NaN        S   \n",
       "1            2       1.0       1  female  38      1      0   C85        C   \n",
       "\n",
       "   Sr_name                                  Actual Name  INDIVIDUAL_FARE  \\\n",
       "0   Braund                              Mr. Owen Harris          3.62500   \n",
       "1  Cumings   Mrs. John Bradley (Florence Briggs Thayer)         35.64165   \n",
       "\n",
       "   Family_Size             Family_Type Ticket_name  \n",
       "0            2  This is a small family         A/5  \n",
       "1            2  This is a small family          PC  "
      ]
     },
     "execution_count": 207,
     "metadata": {},
     "output_type": "execute_result"
    }
   ],
   "source": [
    "final_df.head(2)"
   ]
  },
  {
   "cell_type": "code",
   "execution_count": 209,
   "id": "982f67f9",
   "metadata": {},
   "outputs": [
    {
     "data": {
      "text/plain": [
       "['Survived', 'Cabin', 'Embarked', 'INDIVIDUAL_FARE']"
      ]
     },
     "execution_count": 209,
     "metadata": {},
     "output_type": "execute_result"
    }
   ],
   "source": [
    "[features for features in final_df.columns if final_df[features].isnull().sum()>0]"
   ]
  },
  {
   "cell_type": "code",
   "execution_count": 211,
   "id": "b5b980e2",
   "metadata": {},
   "outputs": [],
   "source": [
    "#handling missing values.\n",
    "final_df[\"Survived\"]=final_df[\"Survived\"].fillna(final_df[\"Survived\"].mode()[0])"
   ]
  },
  {
   "cell_type": "code",
   "execution_count": 212,
   "id": "66d5ea17",
   "metadata": {},
   "outputs": [],
   "source": [
    "final_df[\"Cabin\"]=final_df[\"Cabin\"].fillna(final_df[\"Cabin\"].mode()[0])"
   ]
  },
  {
   "cell_type": "code",
   "execution_count": 213,
   "id": "82027e53",
   "metadata": {},
   "outputs": [],
   "source": [
    "final_df[\"Embarked\"]=final_df[\"Embarked\"].fillna(final_df[\"Embarked\"].mode()[0])"
   ]
  },
  {
   "cell_type": "code",
   "execution_count": 214,
   "id": "e39852b0",
   "metadata": {},
   "outputs": [],
   "source": [
    "final_df[\"INDIVIDUAL_FARE\"]=final_df[\"INDIVIDUAL_FARE\"].fillna(final_df[\"INDIVIDUAL_FARE\"].mode()[0])"
   ]
  },
  {
   "cell_type": "code",
   "execution_count": 215,
   "id": "7abe24ed",
   "metadata": {},
   "outputs": [
    {
     "data": {
      "text/html": [
       "<div>\n",
       "<style scoped>\n",
       "    .dataframe tbody tr th:only-of-type {\n",
       "        vertical-align: middle;\n",
       "    }\n",
       "\n",
       "    .dataframe tbody tr th {\n",
       "        vertical-align: top;\n",
       "    }\n",
       "\n",
       "    .dataframe thead th {\n",
       "        text-align: right;\n",
       "    }\n",
       "</style>\n",
       "<table border=\"1\" class=\"dataframe\">\n",
       "  <thead>\n",
       "    <tr style=\"text-align: right;\">\n",
       "      <th></th>\n",
       "      <th>PassengerId</th>\n",
       "      <th>Survived</th>\n",
       "      <th>Pclass</th>\n",
       "      <th>Sex</th>\n",
       "      <th>Age</th>\n",
       "      <th>SibSp</th>\n",
       "      <th>Parch</th>\n",
       "      <th>Cabin</th>\n",
       "      <th>Embarked</th>\n",
       "      <th>Sr_name</th>\n",
       "      <th>Actual Name</th>\n",
       "      <th>INDIVIDUAL_FARE</th>\n",
       "      <th>Family_Size</th>\n",
       "      <th>Family_Type</th>\n",
       "      <th>Ticket_name</th>\n",
       "    </tr>\n",
       "  </thead>\n",
       "  <tbody>\n",
       "    <tr>\n",
       "      <th>0</th>\n",
       "      <td>1</td>\n",
       "      <td>0.0</td>\n",
       "      <td>3</td>\n",
       "      <td>male</td>\n",
       "      <td>22</td>\n",
       "      <td>1</td>\n",
       "      <td>0</td>\n",
       "      <td>C23 C25 C27</td>\n",
       "      <td>S</td>\n",
       "      <td>Braund</td>\n",
       "      <td>Mr. Owen Harris</td>\n",
       "      <td>3.62500</td>\n",
       "      <td>2</td>\n",
       "      <td>This is a small family</td>\n",
       "      <td>A/5</td>\n",
       "    </tr>\n",
       "    <tr>\n",
       "      <th>1</th>\n",
       "      <td>2</td>\n",
       "      <td>1.0</td>\n",
       "      <td>1</td>\n",
       "      <td>female</td>\n",
       "      <td>38</td>\n",
       "      <td>1</td>\n",
       "      <td>0</td>\n",
       "      <td>C85</td>\n",
       "      <td>C</td>\n",
       "      <td>Cumings</td>\n",
       "      <td>Mrs. John Bradley (Florence Briggs Thayer)</td>\n",
       "      <td>35.64165</td>\n",
       "      <td>2</td>\n",
       "      <td>This is a small family</td>\n",
       "      <td>PC</td>\n",
       "    </tr>\n",
       "    <tr>\n",
       "      <th>2</th>\n",
       "      <td>3</td>\n",
       "      <td>1.0</td>\n",
       "      <td>3</td>\n",
       "      <td>female</td>\n",
       "      <td>26</td>\n",
       "      <td>0</td>\n",
       "      <td>0</td>\n",
       "      <td>C23 C25 C27</td>\n",
       "      <td>S</td>\n",
       "      <td>Heikkinen</td>\n",
       "      <td>Miss. Laina</td>\n",
       "      <td>7.92500</td>\n",
       "      <td>1</td>\n",
       "      <td>The person is alone</td>\n",
       "      <td>STON/O2.</td>\n",
       "    </tr>\n",
       "    <tr>\n",
       "      <th>3</th>\n",
       "      <td>4</td>\n",
       "      <td>1.0</td>\n",
       "      <td>1</td>\n",
       "      <td>female</td>\n",
       "      <td>35</td>\n",
       "      <td>1</td>\n",
       "      <td>0</td>\n",
       "      <td>C123</td>\n",
       "      <td>S</td>\n",
       "      <td>Futrelle</td>\n",
       "      <td>Mrs. Jacques Heath (Lily May Peel)</td>\n",
       "      <td>26.55000</td>\n",
       "      <td>2</td>\n",
       "      <td>This is a small family</td>\n",
       "      <td>113803</td>\n",
       "    </tr>\n",
       "    <tr>\n",
       "      <th>4</th>\n",
       "      <td>5</td>\n",
       "      <td>0.0</td>\n",
       "      <td>3</td>\n",
       "      <td>male</td>\n",
       "      <td>35</td>\n",
       "      <td>0</td>\n",
       "      <td>0</td>\n",
       "      <td>C23 C25 C27</td>\n",
       "      <td>S</td>\n",
       "      <td>Allen</td>\n",
       "      <td>Mr. William Henry</td>\n",
       "      <td>8.05000</td>\n",
       "      <td>1</td>\n",
       "      <td>The person is alone</td>\n",
       "      <td>373450</td>\n",
       "    </tr>\n",
       "  </tbody>\n",
       "</table>\n",
       "</div>"
      ],
      "text/plain": [
       "   PassengerId  Survived  Pclass     Sex Age  SibSp  Parch        Cabin  \\\n",
       "0            1       0.0       3    male  22      1      0  C23 C25 C27   \n",
       "1            2       1.0       1  female  38      1      0          C85   \n",
       "2            3       1.0       3  female  26      0      0  C23 C25 C27   \n",
       "3            4       1.0       1  female  35      1      0         C123   \n",
       "4            5       0.0       3    male  35      0      0  C23 C25 C27   \n",
       "\n",
       "  Embarked    Sr_name                                  Actual Name  \\\n",
       "0        S     Braund                              Mr. Owen Harris   \n",
       "1        C    Cumings   Mrs. John Bradley (Florence Briggs Thayer)   \n",
       "2        S  Heikkinen                                  Miss. Laina   \n",
       "3        S   Futrelle           Mrs. Jacques Heath (Lily May Peel)   \n",
       "4        S      Allen                            Mr. William Henry   \n",
       "\n",
       "   INDIVIDUAL_FARE  Family_Size             Family_Type Ticket_name  \n",
       "0          3.62500            2  This is a small family         A/5  \n",
       "1         35.64165            2  This is a small family          PC  \n",
       "2          7.92500            1     The person is alone    STON/O2.  \n",
       "3         26.55000            2  This is a small family      113803  \n",
       "4          8.05000            1     The person is alone      373450  "
      ]
     },
     "execution_count": 215,
     "metadata": {},
     "output_type": "execute_result"
    }
   ],
   "source": [
    "final_df.head()"
   ]
  },
  {
   "cell_type": "code",
   "execution_count": 216,
   "id": "4ab49803",
   "metadata": {},
   "outputs": [],
   "source": [
    "#handling the categorical variables.\n",
    "#\"Survived\",\"Sex\",\"Pclass\",\"Parch,\"Emabarked."
   ]
  },
  {
   "cell_type": "code",
   "execution_count": 217,
   "id": "2c54b532",
   "metadata": {},
   "outputs": [],
   "source": [
    "from sklearn.preprocessing import LabelEncoder"
   ]
  },
  {
   "cell_type": "code",
   "execution_count": 219,
   "id": "13af9c44",
   "metadata": {},
   "outputs": [],
   "source": [
    "lr=LabelEncoder()"
   ]
  },
  {
   "cell_type": "code",
   "execution_count": 221,
   "id": "6185e467",
   "metadata": {},
   "outputs": [],
   "source": [
    "final_df[\"Survived\"]=lr.fit_transform(final_df[\"Survived\"])"
   ]
  },
  {
   "cell_type": "code",
   "execution_count": 223,
   "id": "24bf786f",
   "metadata": {},
   "outputs": [],
   "source": [
    "final_df[\"Sex\"]=lr.fit_transform(final_df[\"Sex\"])"
   ]
  },
  {
   "cell_type": "code",
   "execution_count": 224,
   "id": "c92fa01b",
   "metadata": {},
   "outputs": [],
   "source": [
    "final_df[\"Pclass\"]=lr.fit_transform(final_df[\"Pclass\"])"
   ]
  },
  {
   "cell_type": "code",
   "execution_count": 225,
   "id": "dbde42ea",
   "metadata": {},
   "outputs": [],
   "source": [
    "final_df[\"Parch\"]=lr.fit_transform(final_df[\"Parch\"])"
   ]
  },
  {
   "cell_type": "code",
   "execution_count": 227,
   "id": "3607722f",
   "metadata": {},
   "outputs": [],
   "source": [
    "final_df[\"Emabarked\"]=lr.fit_transform(final_df[\"Embarked\"])"
   ]
  },
  {
   "cell_type": "code",
   "execution_count": 229,
   "id": "d38fe487",
   "metadata": {},
   "outputs": [],
   "source": [
    "final_df.drop(\"SibSp\",axis=1,inplace=True)"
   ]
  },
  {
   "cell_type": "code",
   "execution_count": 230,
   "id": "e2c6df04",
   "metadata": {},
   "outputs": [],
   "source": [
    "final_df.drop(\"Parch\",axis=1,inplace=True)"
   ]
  },
  {
   "cell_type": "code",
   "execution_count": 231,
   "id": "90e365da",
   "metadata": {},
   "outputs": [
    {
     "data": {
      "text/html": [
       "<div>\n",
       "<style scoped>\n",
       "    .dataframe tbody tr th:only-of-type {\n",
       "        vertical-align: middle;\n",
       "    }\n",
       "\n",
       "    .dataframe tbody tr th {\n",
       "        vertical-align: top;\n",
       "    }\n",
       "\n",
       "    .dataframe thead th {\n",
       "        text-align: right;\n",
       "    }\n",
       "</style>\n",
       "<table border=\"1\" class=\"dataframe\">\n",
       "  <thead>\n",
       "    <tr style=\"text-align: right;\">\n",
       "      <th></th>\n",
       "      <th>PassengerId</th>\n",
       "      <th>Survived</th>\n",
       "      <th>Pclass</th>\n",
       "      <th>Sex</th>\n",
       "      <th>Age</th>\n",
       "      <th>Cabin</th>\n",
       "      <th>Embarked</th>\n",
       "      <th>Sr_name</th>\n",
       "      <th>Actual Name</th>\n",
       "      <th>INDIVIDUAL_FARE</th>\n",
       "      <th>Family_Size</th>\n",
       "      <th>Family_Type</th>\n",
       "      <th>Ticket_name</th>\n",
       "      <th>Emabarked</th>\n",
       "    </tr>\n",
       "  </thead>\n",
       "  <tbody>\n",
       "    <tr>\n",
       "      <th>0</th>\n",
       "      <td>1</td>\n",
       "      <td>0</td>\n",
       "      <td>2</td>\n",
       "      <td>1</td>\n",
       "      <td>22</td>\n",
       "      <td>C23 C25 C27</td>\n",
       "      <td>S</td>\n",
       "      <td>Braund</td>\n",
       "      <td>Mr. Owen Harris</td>\n",
       "      <td>3.62500</td>\n",
       "      <td>2</td>\n",
       "      <td>This is a small family</td>\n",
       "      <td>A/5</td>\n",
       "      <td>2</td>\n",
       "    </tr>\n",
       "    <tr>\n",
       "      <th>1</th>\n",
       "      <td>2</td>\n",
       "      <td>1</td>\n",
       "      <td>0</td>\n",
       "      <td>0</td>\n",
       "      <td>38</td>\n",
       "      <td>C85</td>\n",
       "      <td>C</td>\n",
       "      <td>Cumings</td>\n",
       "      <td>Mrs. John Bradley (Florence Briggs Thayer)</td>\n",
       "      <td>35.64165</td>\n",
       "      <td>2</td>\n",
       "      <td>This is a small family</td>\n",
       "      <td>PC</td>\n",
       "      <td>0</td>\n",
       "    </tr>\n",
       "    <tr>\n",
       "      <th>2</th>\n",
       "      <td>3</td>\n",
       "      <td>1</td>\n",
       "      <td>2</td>\n",
       "      <td>0</td>\n",
       "      <td>26</td>\n",
       "      <td>C23 C25 C27</td>\n",
       "      <td>S</td>\n",
       "      <td>Heikkinen</td>\n",
       "      <td>Miss. Laina</td>\n",
       "      <td>7.92500</td>\n",
       "      <td>1</td>\n",
       "      <td>The person is alone</td>\n",
       "      <td>STON/O2.</td>\n",
       "      <td>2</td>\n",
       "    </tr>\n",
       "    <tr>\n",
       "      <th>3</th>\n",
       "      <td>4</td>\n",
       "      <td>1</td>\n",
       "      <td>0</td>\n",
       "      <td>0</td>\n",
       "      <td>35</td>\n",
       "      <td>C123</td>\n",
       "      <td>S</td>\n",
       "      <td>Futrelle</td>\n",
       "      <td>Mrs. Jacques Heath (Lily May Peel)</td>\n",
       "      <td>26.55000</td>\n",
       "      <td>2</td>\n",
       "      <td>This is a small family</td>\n",
       "      <td>113803</td>\n",
       "      <td>2</td>\n",
       "    </tr>\n",
       "    <tr>\n",
       "      <th>4</th>\n",
       "      <td>5</td>\n",
       "      <td>0</td>\n",
       "      <td>2</td>\n",
       "      <td>1</td>\n",
       "      <td>35</td>\n",
       "      <td>C23 C25 C27</td>\n",
       "      <td>S</td>\n",
       "      <td>Allen</td>\n",
       "      <td>Mr. William Henry</td>\n",
       "      <td>8.05000</td>\n",
       "      <td>1</td>\n",
       "      <td>The person is alone</td>\n",
       "      <td>373450</td>\n",
       "      <td>2</td>\n",
       "    </tr>\n",
       "  </tbody>\n",
       "</table>\n",
       "</div>"
      ],
      "text/plain": [
       "   PassengerId  Survived  Pclass  Sex Age        Cabin Embarked    Sr_name  \\\n",
       "0            1         0       2    1  22  C23 C25 C27        S     Braund   \n",
       "1            2         1       0    0  38          C85        C    Cumings   \n",
       "2            3         1       2    0  26  C23 C25 C27        S  Heikkinen   \n",
       "3            4         1       0    0  35         C123        S   Futrelle   \n",
       "4            5         0       2    1  35  C23 C25 C27        S      Allen   \n",
       "\n",
       "                                   Actual Name  INDIVIDUAL_FARE  Family_Size  \\\n",
       "0                              Mr. Owen Harris          3.62500            2   \n",
       "1   Mrs. John Bradley (Florence Briggs Thayer)         35.64165            2   \n",
       "2                                  Miss. Laina          7.92500            1   \n",
       "3           Mrs. Jacques Heath (Lily May Peel)         26.55000            2   \n",
       "4                            Mr. William Henry          8.05000            1   \n",
       "\n",
       "              Family_Type Ticket_name  Emabarked  \n",
       "0  This is a small family         A/5          2  \n",
       "1  This is a small family          PC          0  \n",
       "2     The person is alone    STON/O2.          2  \n",
       "3  This is a small family      113803          2  \n",
       "4     The person is alone      373450          2  "
      ]
     },
     "execution_count": 231,
     "metadata": {},
     "output_type": "execute_result"
    }
   ],
   "source": [
    "final_df.head()"
   ]
  },
  {
   "cell_type": "code",
   "execution_count": null,
   "id": "511485b2",
   "metadata": {},
   "outputs": [],
   "source": []
  }
 ],
 "metadata": {
  "kernelspec": {
   "display_name": "Python 3 (ipykernel)",
   "language": "python",
   "name": "python3"
  },
  "language_info": {
   "codemirror_mode": {
    "name": "ipython",
    "version": 3
   },
   "file_extension": ".py",
   "mimetype": "text/x-python",
   "name": "python",
   "nbconvert_exporter": "python",
   "pygments_lexer": "ipython3",
   "version": "3.11.4"
  }
 },
 "nbformat": 4,
 "nbformat_minor": 5
}
